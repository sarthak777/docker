{
 "cells": [
  {
   "cell_type": "code",
   "execution_count": 1,
   "metadata": {
    "application/vnd.databricks.v1+cell": {
     "cellMetadata": {
      "byteLimit": 2048000,
      "rowLimit": 10000
     },
     "inputWidgets": {},
     "nuid": "218c9247-b18e-409a-8752-a006afd1edba",
     "showTitle": false,
     "title": ""
    }
   },
   "outputs": [],
   "source": [
    "from pyspark.sql.functions import col,split,concat,lit,substring_index,slice,desc, rank,count,max,countDistinct\n",
    "from pyspark.sql.window import Window\n",
    "from pyspark.context import SparkContext\n",
    "from pyspark.sql.session import SparkSession\n",
    "import findspark\n",
    "import logging\n",
    "import unittest"
   ]
  },
  {
   "cell_type": "code",
   "execution_count": 2,
   "metadata": {
    "application/vnd.databricks.v1+cell": {
     "cellMetadata": {
      "byteLimit": 2048000,
      "rowLimit": 10000
     },
     "inputWidgets": {},
     "nuid": "7d467096-2fac-46a9-869d-369f7b2f0049",
     "showTitle": false,
     "title": ""
    }
   },
   "outputs": [
    {
     "ename": "NameError",
     "evalue": "name 'spark' is not defined",
     "output_type": "error",
     "traceback": [
      "\u001b[1;31m---------------------------------------------------------------------------\u001b[0m",
      "\u001b[1;31mNameError\u001b[0m                                 Traceback (most recent call last)",
      "\u001b[1;32mc:\\Users\\Sarthak.Garg\\Downloads\\aggregation.ipynb Cell 2\u001b[0m line \u001b[0;36m1\n\u001b[1;32m----> <a href='vscode-notebook-cell:/c%3A/Users/Sarthak.Garg/Downloads/aggregation.ipynb#W1sZmlsZQ%3D%3D?line=0'>1</a>\u001b[0m df\u001b[39m=\u001b[39mspark\u001b[39m.\u001b[39mread\u001b[39m.\u001b[39moption(\u001b[39m\"\u001b[39m\u001b[39mmultiLine\u001b[39m\u001b[39m\"\u001b[39m, \u001b[39m\"\u001b[39m\u001b[39mtrue\u001b[39m\u001b[39m\"\u001b[39m)\u001b[39m.\u001b[39mjson(\u001b[39m\"\u001b[39m\u001b[39mabfss://sampledata@volkswagontest.dfs.core.windows.net/\u001b[39m\u001b[39m\"\u001b[39m) \n\u001b[0;32m      <a href='vscode-notebook-cell:/c%3A/Users/Sarthak.Garg/Downloads/aggregation.ipynb#W1sZmlsZQ%3D%3D?line=1'>2</a>\u001b[0m display(df)\n",
      "\u001b[1;31mNameError\u001b[0m: name 'spark' is not defined"
     ]
    }
   ],
   "source": [
    "df=spark.read.option(\"multiLine\", \"true\").json(\"/home/data/\") \n",
    "display(df)\n",
    "             "
   ]
  },
  {
   "cell_type": "code",
   "execution_count": null,
   "metadata": {
    "application/vnd.databricks.v1+cell": {
     "cellMetadata": {
      "byteLimit": 2048000,
      "rowLimit": 10000
     },
     "inputWidgets": {},
     "nuid": "4d8716ef-3080-4f48-85cd-88eddbbc29e4",
     "showTitle": false,
     "title": ""
    }
   },
   "outputs": [],
   "source": [
    "\n",
    "# create logger\n",
    "logger = logging.getLogger('volkwagon')\n",
    "logger.setLevel(logging.INFO)\n",
    "\n",
    "# create file handler and set logger level to INFO\n",
    "log_path = \"/logs\"\n",
    "file_handler = logging.FileHandler(log_path)\n",
    "file_handler.setLevel(logging.INFO)\n",
    "\n",
    "# create console handler and set logger level to INFO\n",
    "console_handler = logging.StreamHandler()\n",
    "console_handler.setLevel(logging.INFO)\n",
    "\n",
    "# create formatter\n",
    "formatter = logging.Formatter('%(asctime)s - %(name)s - %(levelname)s - %(message)s')\n",
    "\n",
    "# add formatter to file handler and console handler\n",
    "file_handler.setFormatter(formatter)\n",
    "console_handler.setFormatter(formatter)\n",
    "\n",
    "# add file handler and console handler to logger\n",
    "logger.addHandler(file_handler)\n",
    "logger.addHandler(console_handler)\n",
    "\n"
   ]
  },
  {
   "cell_type": "code",
   "execution_count": null,
   "metadata": {
    "application/vnd.databricks.v1+cell": {
     "cellMetadata": {
      "byteLimit": 2048000,
      "rowLimit": 10000
     },
     "inputWidgets": {},
     "nuid": "8b970be9-d0c5-40a9-8dcf-3c2f100ee1d3",
     "showTitle": false,
     "title": ""
    }
   },
   "outputs": [],
   "source": [
    "\n",
    "\n",
    "def most_sold_cars():\n",
    "\n",
    "    try:\n",
    "        logging.info(\"Deriving new columns...\")\n",
    "        derived_df = df.withColumn('Brand', split(col('name'), ' ')[0]) \\\n",
    "                       .withColumn('Model', split(col('name'), ' ', 2)[1])\n",
    "\n",
    "        logging.info(\"Selecting relevant columns...\")\n",
    "        selected_df = derived_df.select('Brand','Model','Year','Origin','Acceleration','Cylinders','Displacement','Horsepower','Miles_per_Gallon','Weight_in_lbs')\n",
    "\n",
    "        logging.info(\"Grouping and counting cars by brand and year...\")\n",
    "        df_count_brand = selected_df.groupBy(\"year\", \"brand\") \\\n",
    "                  .count()\n",
    "\n",
    "        logging.info(\"Finding most sold car by brand and year...\")\n",
    "        part_df = Window.partitionBy(\"year\") \\\n",
    "                    .orderBy(desc(\"count\"), desc(concat(\"year\", \"count\")))\n",
    "        df_final = df_count_brand.withColumn(\"sold_brand\", col(\"count\")) \\\n",
    "                       .withColumn(\"rank\", rank().over(part_df)) \\\n",
    "                       .filter(col(\"rank\") == 1) \\\n",
    "                       .drop(\"count\", \"rank\")\n",
    "\n",
    "        logging.info(\"Displaying derived and counted data...\")\n",
    "        display(df_final)\n",
    "\n",
    "        logging.info(\"Writing data to data lake...\")\n",
    "        df_final.write.mode(\"overwrite\").partitionBy(\"year\", \"brand\").parquet('/year/brand')\n",
    "        \n",
    "        logging.info(\"Function completed successfully.\")\n",
    "\n",
    "        return df_final\n",
    "    except Exception as e:\n",
    "        logging.error(\"An error occurred: %s\", str(e))\n",
    "        print(\"An error occurred: \", str(e))\n",
    "        return None"
   ]
  },
  {
   "cell_type": "code",
   "execution_count": null,
   "metadata": {
    "application/vnd.databricks.v1+cell": {
     "cellMetadata": {
      "byteLimit": 2048000,
      "rowLimit": 10000
     },
     "inputWidgets": {},
     "nuid": "8940a07e-9ae3-4b6f-99fa-1e49de6b40a5",
     "showTitle": false,
     "title": ""
    }
   },
   "outputs": [
    {
     "data": {
      "text/html": [
       "<style scoped>\n",
       "  .table-result-container {\n",
       "    max-height: 300px;\n",
       "    overflow: auto;\n",
       "  }\n",
       "  table, th, td {\n",
       "    border: 1px solid black;\n",
       "    border-collapse: collapse;\n",
       "  }\n",
       "  th, td {\n",
       "    padding: 5px;\n",
       "  }\n",
       "  th {\n",
       "    text-align: left;\n",
       "  }\n",
       "</style><div class='table-result-container'><table class='table-result'><thead style='background-color: white'><tr><th>year</th><th>brand</th><th>sold_brand</th></tr></thead><tbody><tr><td>1970-01-01</td><td>ford</td><td>5</td></tr><tr><td>1970-01-01</td><td>plymouth</td><td>5</td></tr><tr><td>1970-01-01</td><td>amc</td><td>5</td></tr><tr><td>1971-01-01</td><td>ford</td><td>5</td></tr><tr><td>1972-01-01</td><td>ford</td><td>4</td></tr><tr><td>1973-01-01</td><td>chevrolet</td><td>6</td></tr><tr><td>1974-01-01</td><td>ford</td><td>4</td></tr><tr><td>1975-01-01</td><td>ford</td><td>5</td></tr><tr><td>1976-01-01</td><td>ford</td><td>5</td></tr><tr><td>1977-01-01</td><td>chevrolet</td><td>4</td></tr><tr><td>1978-01-01</td><td>dodge</td><td>4</td></tr><tr><td>1978-01-01</td><td>ford</td><td>4</td></tr><tr><td>1979-01-01</td><td>ford</td><td>3</td></tr><tr><td>1979-01-01</td><td>chevrolet</td><td>3</td></tr><tr><td>1979-01-01</td><td>dodge</td><td>3</td></tr><tr><td>1980-01-01</td><td>datsun</td><td>4</td></tr><tr><td>1982-01-01</td><td>ford</td><td>7</td></tr></tbody></table></div>"
      ]
     },
     "metadata": {
      "application/vnd.databricks.v1+output": {
       "addedWidgets": {},
       "aggData": [],
       "aggError": "",
       "aggOverflow": false,
       "aggSchema": [],
       "aggSeriesLimitReached": false,
       "aggType": "",
       "arguments": {},
       "columnCustomDisplayInfos": {},
       "data": [
        [
         "1970-01-01",
         "ford",
         5
        ],
        [
         "1970-01-01",
         "plymouth",
         5
        ],
        [
         "1970-01-01",
         "amc",
         5
        ],
        [
         "1971-01-01",
         "ford",
         5
        ],
        [
         "1972-01-01",
         "ford",
         4
        ],
        [
         "1973-01-01",
         "chevrolet",
         6
        ],
        [
         "1974-01-01",
         "ford",
         4
        ],
        [
         "1975-01-01",
         "ford",
         5
        ],
        [
         "1976-01-01",
         "ford",
         5
        ],
        [
         "1977-01-01",
         "chevrolet",
         4
        ],
        [
         "1978-01-01",
         "dodge",
         4
        ],
        [
         "1978-01-01",
         "ford",
         4
        ],
        [
         "1979-01-01",
         "ford",
         3
        ],
        [
         "1979-01-01",
         "chevrolet",
         3
        ],
        [
         "1979-01-01",
         "dodge",
         3
        ],
        [
         "1980-01-01",
         "datsun",
         4
        ],
        [
         "1982-01-01",
         "ford",
         7
        ]
       ],
       "datasetInfos": [],
       "dbfsResultPath": null,
       "isJsonSchema": true,
       "metadata": {},
       "overflow": false,
       "plotOptions": {
        "customPlotOptions": {},
        "displayType": "table",
        "pivotAggregation": null,
        "pivotColumns": null,
        "xColumns": null,
        "yColumns": null
       },
       "removedWidgets": [],
       "schema": [
        {
         "metadata": "{}",
         "name": "year",
         "type": "\"string\""
        },
        {
         "metadata": "{}",
         "name": "brand",
         "type": "\"string\""
        },
        {
         "metadata": "{}",
         "name": "sold_brand",
         "type": "\"long\""
        }
       ],
       "type": "table"
      }
     },
     "output_type": "display_data"
    },
    {
     "data": {
      "text/plain": [
       "DataFrame[year: string, brand: string, sold_brand: bigint]"
      ]
     },
     "execution_count": 8,
     "metadata": {},
     "output_type": "execute_result"
    }
   ],
   "source": [
    "most_sold_cars()"
   ]
  },
  {
   "cell_type": "code",
   "execution_count": null,
   "metadata": {
    "application/vnd.databricks.v1+cell": {
     "cellMetadata": {
      "byteLimit": 2048000,
      "rowLimit": 10000
     },
     "inputWidgets": {},
     "nuid": "0334d8b9-18bc-433d-89d4-c3a400e4d348",
     "showTitle": false,
     "title": ""
    }
   },
   "outputs": [],
   "source": [
    "def acceleration_by_origin():\n",
    "    try:\n",
    "        logger = logging.getLogger('acceleration_by_origin')\n",
    "                \n",
    "        logging.info(\"Deriving new columns...\")\n",
    "        derived_df = df.withColumn('Brand', split(col('name'), ' ')[0]) \\\n",
    "                       .withColumn('Model', split(col('name'), ' ', 2)[1])\n",
    "\n",
    "        logging.info(\"Selecting relevant columns...\")\n",
    "        selected_df = derived_df.select('Brand','Model','Origin','Acceleration','Cylinders','Displacement','Horsepower','Miles_per_Gallon','Weight_in_lbs') \\\n",
    "            .withColumn('Acceleration',derived_df['Acceleration'].cast('double'))\n",
    "\n",
    "        logging.info(\"Finding acceleration by origin...\")\n",
    "        part_spec = Window.partitionBy(\"origin\") \\\n",
    "                        .orderBy(desc(\"acceleration\"))\n",
    "\n",
    "        df_fastest = selected_df.withColumn(\"rank\", rank().over(part_spec)) \\\n",
    "                .filter(col(\"rank\") == 1) \\\n",
    "                .drop(\"rank\")\n",
    "\n",
    "        logging.info(\"Displaying derived and counted data...\")\n",
    "        display(df_fastest)\n",
    "\n",
    "        logging.info(\"Writing data to data lake...\")\n",
    "        df_fastest.write.mode(\"overwrite\").partitionBy(\"origin\").parquet('/origin/brand')\n",
    "\n",
    "        logging.info(\"Function completed successfully.\")\n",
    "\n",
    "        return df_fastest\n",
    "    except Exception as e:\n",
    "        logging.error(\"An error occurred: %s\", str(e))\n",
    "        print(\"An error occurred: \", str(e))\n",
    "        return None"
   ]
  },
  {
   "cell_type": "code",
   "execution_count": null,
   "metadata": {
    "application/vnd.databricks.v1+cell": {
     "cellMetadata": {
      "byteLimit": 2048000,
      "rowLimit": 10000
     },
     "inputWidgets": {},
     "nuid": "9584ff87-8bfe-4adb-baae-4f91124c7122",
     "showTitle": false,
     "title": ""
    }
   },
   "outputs": [
    {
     "data": {
      "text/html": [
       "<style scoped>\n",
       "  .table-result-container {\n",
       "    max-height: 300px;\n",
       "    overflow: auto;\n",
       "  }\n",
       "  table, th, td {\n",
       "    border: 1px solid black;\n",
       "    border-collapse: collapse;\n",
       "  }\n",
       "  th, td {\n",
       "    padding: 5px;\n",
       "  }\n",
       "  th {\n",
       "    text-align: left;\n",
       "  }\n",
       "</style><div class='table-result-container'><table class='table-result'><thead style='background-color: white'><tr><th>Brand</th><th>Model</th><th>Origin</th><th>Acceleration</th><th>Cylinders</th><th>Displacement</th><th>Horsepower</th><th>Miles_per_Gallon</th><th>Weight_in_lbs</th></tr></thead><tbody><tr><td>peugeot</td><td>504</td><td>Europe</td><td>24.8</td><td>4</td><td>141.0</td><td>71</td><td>27.2</td><td>3190</td></tr><tr><td>toyota</td><td>corolla 1200</td><td>Japan</td><td>21</td><td>4</td><td>71.0</td><td>65</td><td>32.0</td><td>1836</td></tr><tr><td>chevrolet</td><td>monte carlo</td><td>USA</td><td>9.5</td><td>8</td><td>400.0</td><td>150</td><td>15.0</td><td>3761</td></tr><tr><td>pontiac</td><td>grand prix</td><td>USA</td><td>9.5</td><td>8</td><td>400.0</td><td>230</td><td>16.0</td><td>4278</td></tr></tbody></table></div>"
      ]
     },
     "metadata": {
      "application/vnd.databricks.v1+output": {
       "addedWidgets": {},
       "aggData": [],
       "aggError": "",
       "aggOverflow": false,
       "aggSchema": [],
       "aggSeriesLimitReached": false,
       "aggType": "",
       "arguments": {},
       "columnCustomDisplayInfos": {},
       "data": [
        [
         "peugeot",
         "504",
         "Europe",
         "24.8",
         4,
         141,
         71,
         27.2,
         3190
        ],
        [
         "toyota",
         "corolla 1200",
         "Japan",
         "21",
         4,
         71,
         65,
         32,
         1836
        ],
        [
         "chevrolet",
         "monte carlo",
         "USA",
         "9.5",
         8,
         400,
         150,
         15,
         3761
        ],
        [
         "pontiac",
         "grand prix",
         "USA",
         "9.5",
         8,
         400,
         230,
         16,
         4278
        ]
       ],
       "datasetInfos": [],
       "dbfsResultPath": null,
       "isJsonSchema": true,
       "metadata": {},
       "overflow": false,
       "plotOptions": {
        "customPlotOptions": {},
        "displayType": "table",
        "pivotAggregation": null,
        "pivotColumns": null,
        "xColumns": null,
        "yColumns": null
       },
       "removedWidgets": [],
       "schema": [
        {
         "metadata": "{}",
         "name": "Brand",
         "type": "\"string\""
        },
        {
         "metadata": "{}",
         "name": "Model",
         "type": "\"string\""
        },
        {
         "metadata": "{}",
         "name": "Origin",
         "type": "\"string\""
        },
        {
         "metadata": "{}",
         "name": "Acceleration",
         "type": "\"string\""
        },
        {
         "metadata": "{}",
         "name": "Cylinders",
         "type": "\"long\""
        },
        {
         "metadata": "{}",
         "name": "Displacement",
         "type": "\"double\""
        },
        {
         "metadata": "{}",
         "name": "Horsepower",
         "type": "\"long\""
        },
        {
         "metadata": "{}",
         "name": "Miles_per_Gallon",
         "type": "\"double\""
        },
        {
         "metadata": "{}",
         "name": "Weight_in_lbs",
         "type": "\"long\""
        }
       ],
       "type": "table"
      }
     },
     "output_type": "display_data"
    },
    {
     "data": {
      "text/plain": [
       "DataFrame[Brand: string, Model: string, Origin: string, Acceleration: string, Cylinders: bigint, Displacement: double, Horsepower: bigint, Miles_per_Gallon: double, Weight_in_lbs: bigint]"
      ]
     },
     "execution_count": 15,
     "metadata": {},
     "output_type": "execute_result"
    }
   ],
   "source": [
    "acceleration_by_origin()"
   ]
  },
  {
   "cell_type": "code",
   "execution_count": null,
   "metadata": {
    "application/vnd.databricks.v1+cell": {
     "cellMetadata": {
      "byteLimit": 2048000,
      "rowLimit": 10000
     },
     "inputWidgets": {},
     "nuid": "36d7772b-ed19-4e1b-bb5f-67c5a4624a50",
     "showTitle": false,
     "title": ""
    }
   },
   "outputs": [],
   "source": []
  }
 ],
 "metadata": {
  "application/vnd.databricks.v1+notebook": {
   "dashboards": [],
   "language": "python",
   "notebookMetadata": {
    "pythonIndentUnit": 4
   },
   "notebookName": "aggregation",
   "widgets": {}
  },
  "kernelspec": {
   "display_name": "env",
   "language": "python",
   "name": "python3"
  },
  "language_info": {
   "codemirror_mode": {
    "name": "ipython",
    "version": 3
   },
   "file_extension": ".py",
   "mimetype": "text/x-python",
   "name": "python",
   "nbconvert_exporter": "python",
   "pygments_lexer": "ipython3",
   "version": "3.11.3"
  }
 },
 "nbformat": 4,
 "nbformat_minor": 0
}
