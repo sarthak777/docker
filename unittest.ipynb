{
 "cells": [
  {
   "cell_type": "code",
   "execution_count": 0,
   "metadata": {
    "application/vnd.databricks.v1+cell": {
     "cellMetadata": {
      "byteLimit": 2048000,
      "rowLimit": 10000
     },
     "inputWidgets": {},
     "nuid": "2bd4fa61-4ac4-440c-92a3-a964a44a41f2",
     "showTitle": false,
     "title": ""
    }
   },
   "outputs": [
    {
     "output_type": "display_data",
     "data": {
      "text/html": [
       "<style scoped>\n",
       "  .table-result-container {\n",
       "    max-height: 300px;\n",
       "    overflow: auto;\n",
       "  }\n",
       "  table, th, td {\n",
       "    border: 1px solid black;\n",
       "    border-collapse: collapse;\n",
       "  }\n",
       "  th, td {\n",
       "    padding: 5px;\n",
       "  }\n",
       "  th {\n",
       "    text-align: left;\n",
       "  }\n",
       "</style><div class='table-result-container'><table class='table-result'><thead style='background-color: white'><tr><th>Acceleration</th><th>Cylinders</th><th>Displacement</th><th>Horsepower</th><th>Miles_per_Gallon</th><th>Name</th><th>Origin</th><th>Weight_in_lbs</th><th>Year</th></tr></thead><tbody><tr><td>12</td><td>8</td><td>307.0</td><td>130</td><td>18.0</td><td>chevrolet chevelle malibu</td><td>USA</td><td>3504</td><td>1970-01-01</td></tr><tr><td>11.5</td><td>8</td><td>350.0</td><td>165</td><td>15.0</td><td>buick skylark 320</td><td>USA</td><td>3693</td><td>1970-01-01</td></tr><tr><td>11</td><td>8</td><td>318.0</td><td>150</td><td>18.0</td><td>plymouth satellite</td><td>USA</td><td>3436</td><td>1970-01-01</td></tr><tr><td>12</td><td>8</td><td>304.0</td><td>150</td><td>16.0</td><td>amc rebel sst</td><td>USA</td><td>3433</td><td>1970-01-01</td></tr><tr><td>10.5</td><td>8</td><td>302.0</td><td>140</td><td>17.0</td><td>ford torino</td><td>USA</td><td>3449</td><td>1970-01-01</td></tr><tr><td>10</td><td>8</td><td>429.0</td><td>198</td><td>15.0</td><td>ford galaxie 500</td><td>USA</td><td>4341</td><td>1970-01-01</td></tr><tr><td>9</td><td>8</td><td>454.0</td><td>220</td><td>14.0</td><td>chevrolet impala</td><td>USA</td><td>4354</td><td>1970-01-01</td></tr><tr><td>8.5</td><td>8</td><td>440.0</td><td>215</td><td>14.0</td><td>plymouth fury iii</td><td>USA</td><td>4312</td><td>1970-01-01</td></tr><tr><td>10</td><td>8</td><td>455.0</td><td>225</td><td>14.0</td><td>pontiac catalina</td><td>USA</td><td>4425</td><td>1970-01-01</td></tr><tr><td>8,5</td><td>8</td><td>390.0</td><td>190</td><td>15.0</td><td>amc ambassador dpl</td><td>USA</td><td>3850</td><td>1970-01-01</td></tr><tr><td>17.5</td><td>4</td><td>133.0</td><td>115</td><td>null</td><td>citroen ds-21 pallas</td><td>Europe</td><td>3090</td><td>1970-01-01</td></tr><tr><td>11.5</td><td>8</td><td>350.0</td><td>165</td><td>null</td><td>chevrolet chevelle concours (sw)</td><td>USA</td><td>4142</td><td>1970-01-01</td></tr><tr><td>11</td><td>8</td><td>351.0</td><td>153</td><td>null</td><td>ford torino (sw)</td><td>USA</td><td>4034</td><td>1970-01-01</td></tr><tr><td>10.5</td><td>8</td><td>383.0</td><td>175</td><td>null</td><td>plymouth satellite (sw)</td><td>USA</td><td>4166</td><td>1970-01-01</td></tr><tr><td>11</td><td>8</td><td>360.0</td><td>175</td><td>null</td><td>amc rebel sst (sw)</td><td>USA</td><td>3850</td><td>1970-01-01</td></tr><tr><td>10</td><td>8</td><td>383.0</td><td>170</td><td>15.0</td><td>dodge challenger se</td><td>USA</td><td>3563</td><td>1970-01-01</td></tr><tr><td>8</td><td>8</td><td>340.0</td><td>160</td><td>14.0</td><td>plymouth 'cuda 340</td><td>USA</td><td>3609</td><td>1970-01-01</td></tr><tr><td>8</td><td>8</td><td>302.0</td><td>140</td><td>null</td><td>ford mustang boss 302</td><td>USA</td><td>3353</td><td>1970-01-01</td></tr><tr><td>9.5</td><td>8</td><td>400.0</td><td>150</td><td>15.0</td><td>chevrolet monte carlo</td><td>USA</td><td>3761</td><td>1970-01-01</td></tr><tr><td>10</td><td>8</td><td>455.0</td><td>225</td><td>14.0</td><td>buick estate wagon (sw)</td><td>USA</td><td>3086</td><td>1970-01-01</td></tr><tr><td>15</td><td>4</td><td>113.0</td><td>95</td><td>24.0</td><td>toyota corona mark ii</td><td>Japan</td><td>2372</td><td>1970-01-01</td></tr><tr><td>15,5</td><td>6</td><td>198.0</td><td>95</td><td>22.0</td><td>plymouth duster</td><td>USA</td><td>2833</td><td>1970-01-01</td></tr><tr><td>15.5</td><td>6</td><td>199.0</td><td>97</td><td>18.0</td><td>amc hornet</td><td>USA</td><td>2774</td><td>1970-01-01</td></tr><tr><td>16</td><td>6</td><td>200.0</td><td>85</td><td>21.0</td><td>ford maverick</td><td>USA</td><td>2587</td><td>1970-01-01</td></tr><tr><td>14.5</td><td>4</td><td>97.0</td><td>88</td><td>27.0</td><td>datsun pl510</td><td>Japan</td><td>2130</td><td>1970-01-01</td></tr><tr><td>20.5</td><td>4</td><td>97.0</td><td>46</td><td>26.0</td><td>volkswagen 1131 deluxe sedan</td><td>Europe</td><td>1835</td><td>1970-01-01</td></tr><tr><td>17.5</td><td>4</td><td>110.0</td><td>87</td><td>25.0</td><td>peugeot    504</td><td>Europe</td><td>2672</td><td>1970-01-01</td></tr><tr><td>14.5</td><td>4</td><td>107.0</td><td>90</td><td>24.0</td><td>audi 100 ls</td><td>Europe</td><td>2430</td><td>1970-01-01</td></tr><tr><td>17.5</td><td>4</td><td>104.0</td><td>95</td><td>25.0</td><td>saab-99e</td><td>Europe</td><td>2375</td><td>1970-01-01</td></tr><tr><td>12.5</td><td>4</td><td>121.0</td><td>113</td><td>26.0</td><td>bmw 2002</td><td>Europe</td><td>2234</td><td>1970-01-01</td></tr><tr><td>15</td><td>6</td><td>199.0</td><td>90</td><td>21.0</td><td>amc gremlin</td><td>USA</td><td>2648</td><td>1970-01-01</td></tr><tr><td>14</td><td>8</td><td>360.0</td><td>215</td><td>10.0</td><td>ford-f250</td><td>USA</td><td>4615</td><td>1970-01-01</td></tr><tr><td>15</td><td>8</td><td>307.0</td><td>200</td><td>10.0</td><td>chevy c20</td><td>USA</td><td>4376</td><td>1970-01-01</td></tr><tr><td>13.5</td><td>8</td><td>318.0</td><td>210</td><td>11.0</td><td>dodge d200</td><td>USA</td><td>4382</td><td>1970-01-01</td></tr><tr><td>18,5</td><td>8</td><td>304.0</td><td>193</td><td>9.0</td><td>hi 1200d</td><td>USA</td><td>4732</td><td>1970-01-01</td></tr><tr><td>14.5</td><td>4</td><td>97.0</td><td>88</td><td>27.0</td><td>datsun pl510</td><td>Japan</td><td>2130</td><td>1971-01-01</td></tr><tr><td>15.5</td><td>4</td><td>140.0</td><td>90</td><td>28.0</td><td>chevrolet vega 2300</td><td>USA</td><td>2264</td><td>1971-01-01</td></tr><tr><td>14</td><td>4</td><td>113.0</td><td>95</td><td>25.0</td><td>toyota corona</td><td>Japan</td><td>2228</td><td>1971-01-01</td></tr><tr><td>19</td><td>4</td><td>98.0</td><td>null</td><td>25.0</td><td>ford pinto</td><td>USA</td><td>2046</td><td>1971-01-01</td></tr><tr><td>20</td><td>4</td><td>97.0</td><td>48</td><td>null</td><td>volkswagen super beetle 117</td><td>Europe</td><td>1978</td><td>1971-01-01</td></tr><tr><td>13</td><td>6</td><td>232.0</td><td>100</td><td>19.0</td><td>amc gremlin</td><td>USA</td><td>2634</td><td>1971-01-01</td></tr><tr><td>15.5</td><td>6</td><td>225.0</td><td>105</td><td>16.0</td><td>plymouth-satellite custom</td><td>USA</td><td>3439</td><td>1971-01-01</td></tr><tr><td>15.5</td><td>6</td><td>250.0</td><td>100</td><td>17.0</td><td>chevrolet chevelle malibu</td><td>USA</td><td>3329</td><td>1971-01-01</td></tr><tr><td>15.5</td><td>6</td><td>250.0</td><td>88</td><td>19.0</td><td>ford torino 500</td><td>USA</td><td>3302</td><td>1971-01-01</td></tr><tr><td>15.5</td><td>6</td><td>232.0</td><td>100</td><td>18.0</td><td>amc matador</td><td>USA</td><td>3288</td><td>1971-01-01</td></tr><tr><td>12</td><td>8</td><td>350.0</td><td>165</td><td>14.0</td><td>chevrolet impala</td><td>USA</td><td>4209</td><td>1971-01-01</td></tr><tr><td>11.5</td><td>8</td><td>400.0</td><td>175</td><td>14.0</td><td>pontiac catalina brougham</td><td>USA</td><td>4464</td><td>1971-01-01</td></tr><tr><td>13.5</td><td>8</td><td>351.0</td><td>153</td><td>14.0</td><td>ford galaxie 500</td><td>USA</td><td>4154</td><td>1971-01-01</td></tr><tr><td>13</td><td>8</td><td>318.0</td><td>150</td><td>14.0</td><td>plymouth fury iii</td><td>USA</td><td>4096</td><td>1971-01-01</td></tr><tr><td>11.5</td><td>8</td><td>383.0</td><td>180</td><td>12.0</td><td>dodge monaco (sw)</td><td>USA</td><td>4955</td><td>1971-01-01</td></tr><tr><td>12</td><td>8</td><td>400.0</td><td>170</td><td>13.0</td><td>ford country squire (sw)</td><td>USA</td><td>4746</td><td>1971-01-01</td></tr><tr><td>12</td><td>8</td><td>400.0</td><td>175</td><td>13.0</td><td>pontiac safari (sw)</td><td>USA</td><td>5140</td><td>1971-01-01</td></tr><tr><td>13.5</td><td>6</td><td>258.0</td><td>110</td><td>18.0</td><td>amc hornet sportabout (sw)</td><td>USA</td><td>2962</td><td>1971-01-01</td></tr><tr><td>19</td><td>4</td><td>140.0</td><td>72</td><td>22.0</td><td>chevrolet vega (sw)</td><td>USA</td><td>2408</td><td>1971-01-01</td></tr><tr><td>15</td><td>6</td><td>250.0</td><td>100</td><td>19.0</td><td>pontiac firebird</td><td>USA</td><td>3282</td><td>1971-01-01</td></tr><tr><td>14.5</td><td>6</td><td>250.0</td><td>88</td><td>18.0</td><td>ford mustang</td><td>USA</td><td>3139</td><td>1971-01-01</td></tr><tr><td>14</td><td>4</td><td>122.0</td><td>86</td><td>23.0</td><td>mercury capri 2000</td><td>USA</td><td>2220</td><td>1971-01-01</td></tr><tr><td>14</td><td>4</td><td>116.0</td><td>90</td><td>28.0</td><td>opel 1900</td><td>Europe</td><td>2123</td><td>1971-01-01</td></tr><tr><td>19.5</td><td>4</td><td>79.0</td><td>70</td><td>30.0</td><td>peugeot 304</td><td>Europe</td><td>2074</td><td>1971-01-01</td></tr><tr><td>14.5</td><td>4</td><td>88.0</td><td>76</td><td>30.0</td><td>fiat 124b</td><td>Europe</td><td>2065</td><td>1971-01-01</td></tr><tr><td>19</td><td>4</td><td>71.0</td><td>65</td><td>31.0</td><td>toyota corolla 1200</td><td>Japan</td><td>1773</td><td>1971-01-01</td></tr><tr><td>18</td><td>4</td><td>72.0</td><td>69</td><td>35.0</td><td>datsun 1200</td><td>Japan</td><td>1613</td><td>1971-01-01</td></tr><tr><td>19</td><td>4</td><td>97.0</td><td>60</td><td>27.0</td><td>volkswagen model 111</td><td>Europe</td><td>1834</td><td>1971-01-01</td></tr><tr><td>20.5</td><td>4</td><td>91.0</td><td>70</td><td>26.0</td><td>plymouth cricket</td><td>USA</td><td>1955</td><td>1971-01-01</td></tr><tr><td>15,5</td><td>4</td><td>113.0</td><td>95</td><td>24.0</td><td>toyota corona hardtop</td><td>Japan</td><td>2278</td><td>1972-01-01</td></tr><tr><td>17</td><td>4</td><td>97.5</td><td>80</td><td>25.0</td><td>dodge colt hardtop</td><td>USA</td><td>2126</td><td>1972-01-01</td></tr><tr><td>23.5</td><td>4</td><td>97.0</td><td>54</td><td>23.0</td><td>volkswagen type 3</td><td>Europe</td><td>2254</td><td>1972-01-01</td></tr><tr><td>19.5</td><td>4</td><td>140.0</td><td>90</td><td>20.0</td><td>chevrolet vega</td><td>USA</td><td>2408</td><td>1972-01-01</td></tr><tr><td>16.5</td><td>4</td><td>122.0</td><td>86</td><td>21.0</td><td>ford pinto runabout</td><td>USA</td><td>2226</td><td>1972-01-01</td></tr><tr><td>12</td><td>8</td><td>350.0</td><td>165</td><td>13.0</td><td>chevrolet impala</td><td>USA</td><td>4274</td><td>1972-01-01</td></tr><tr><td>12</td><td>8</td><td>400.0</td><td>175</td><td>14.0</td><td>pontiac catalina</td><td>USA</td><td>4385</td><td>1972-01-01</td></tr><tr><td>13.5</td><td>8</td><td>318.0</td><td>150</td><td>15.0</td><td>plymouth fury iii</td><td>USA</td><td>4135</td><td>1972-01-01</td></tr><tr><td>13</td><td>8</td><td>351.0</td><td>153</td><td>14.0</td><td>ford galaxie 500</td><td>USA</td><td>4129</td><td>1972-01-01</td></tr><tr><td>11.5</td><td>8</td><td>304.0</td><td>150</td><td>17.0</td><td>amc ambassador sst</td><td>USA</td><td>3672</td><td>1972-01-01</td></tr><tr><td>11</td><td>8</td><td>429.0</td><td>208</td><td>11.0</td><td>mercury marquis</td><td>USA</td><td>4633</td><td>1972-01-01</td></tr><tr><td>13.5</td><td>8</td><td>350.0</td><td>155</td><td>13.0</td><td>buick lesabre custom</td><td>USA</td><td>4502</td><td>1972-01-01</td></tr><tr><td>13.5</td><td>8</td><td>350.0</td><td>160</td><td>12.0</td><td>oldsmobile delta 88 royale</td><td>USA</td><td>4456</td><td>1972-01-01</td></tr><tr><td>12.5</td><td>8</td><td>400.0</td><td>190</td><td>13.0</td><td>chrysler newport royal</td><td>USA</td><td>4422</td><td>1972-01-01</td></tr><tr><td>13.5</td><td>3</td><td>70.0</td><td>97</td><td>19.0</td><td>mazda rx2 coupe</td><td>Japan</td><td>2330</td><td>1972-01-01</td></tr><tr><td>12.5</td><td>8</td><td>304.0</td><td>150</td><td>15.0</td><td>amc matador (sw)</td><td>USA</td><td>3892</td><td>1972-01-01</td></tr><tr><td>14</td><td>8</td><td>307.0</td><td>130</td><td>13.0</td><td>chevrolet chevelle concours (sw)</td><td>USA</td><td>4098</td><td>1972-01-01</td></tr><tr><td>16</td><td>8</td><td>302.0</td><td>140</td><td>13.0</td><td>ford gran torino (sw)</td><td>USA</td><td>4294</td><td>1972-01-01</td></tr><tr><td>14</td><td>8</td><td>318.0</td><td>150</td><td>14.0</td><td>plymouth satellite custom (sw)</td><td>USA</td><td>4077</td><td>1972-01-01</td></tr><tr><td>14.5</td><td>4</td><td>121.0</td><td>112</td><td>18.0</td><td>volvo 145e (sw)</td><td>Europe</td><td>2933</td><td>1972-01-01</td></tr><tr><td>18</td><td>4</td><td>121.0</td><td>76</td><td>22.0</td><td>volkswagen 411 (sw)</td><td>Europe</td><td>2511</td><td>1972-01-01</td></tr><tr><td>19.5</td><td>4</td><td>120.0</td><td>87</td><td>21.0</td><td>peugeot 504 (sw)</td><td>Europe</td><td>2979</td><td>1972-01-01</td></tr><tr><td>18</td><td>4</td><td>96.0</td><td>69</td><td>26.0</td><td>renault 12 (sw)</td><td>Europe</td><td>2189</td><td>1972-01-01</td></tr><tr><td>16</td><td>4</td><td>122.0</td><td>86</td><td>22.0</td><td>ford pinto (sw)</td><td>USA</td><td>2395</td><td>1972-01-01</td></tr><tr><td>17</td><td>4</td><td>97.0</td><td>92</td><td>28.0</td><td>datsun 510 (sw)</td><td>Japan</td><td>2288</td><td>1972-01-01</td></tr><tr><td>14.5</td><td>4</td><td>120.0</td><td>97</td><td>23.0</td><td>toyouta corona mark ii (sw)</td><td>Japan</td><td>2506</td><td>1972-01-01</td></tr><tr><td>15</td><td>4</td><td>98.0</td><td>80</td><td>28.0</td><td>dodge colt (sw)</td><td>USA</td><td>2164</td><td>1972-01-01</td></tr><tr><td>16.5</td><td>4</td><td>97.0</td><td>88</td><td>27.0</td><td>toyota corolla 1600 (sw)</td><td>Japan</td><td>2100</td><td>1972-01-01</td></tr><tr><td>13</td><td>8</td><td>350.0</td><td>175</td><td>13.0</td><td>buick century 350</td><td>USA</td><td>4100</td><td>1973-01-01</td></tr><tr><td>11.5</td><td>8</td><td>304.0</td><td>150</td><td>14.0</td><td>amc matador</td><td>USA</td><td>3672</td><td>1973-01-01</td></tr><tr><td>13</td><td>8</td><td>350.0</td><td>145</td><td>13.0</td><td>chevrolet malibu</td><td>USA</td><td>3988</td><td>1973-01-01</td></tr><tr><td>14.5</td><td>8</td><td>302.0</td><td>137</td><td>14.0</td><td>ford gran torino</td><td>USA</td><td>4042</td><td>1973-01-01</td></tr><tr><td>12.5</td><td>8</td><td>318.0</td><td>150</td><td>15.0</td><td>dodge coronet custom</td><td>USA</td><td>3777</td><td>1973-01-01</td></tr><tr><td>11.5</td><td>8</td><td>429.0</td><td>198</td><td>12.0</td><td>mercury marquis brougham</td><td>USA</td><td>4952</td><td>1973-01-01</td></tr><tr><td>12</td><td>8</td><td>400.0</td><td>150</td><td>13.0</td><td>chevrolet caprice classic</td><td>USA</td><td>4464</td><td>1973-01-01</td></tr><tr><td>13</td><td>8</td><td>351.0</td><td>158</td><td>13.0</td><td>ford ltd</td><td>USA</td><td>4363</td><td>1973-01-01</td></tr><tr><td>14.5</td><td>8</td><td>318.0</td><td>150</td><td>14.0</td><td>plymouth fury gran sedan</td><td>USA</td><td>4237</td><td>1973-01-01</td></tr><tr><td>11</td><td>8</td><td>440.0</td><td>215</td><td>13.0</td><td>chrysler new yorker brougham</td><td>USA</td><td>4735</td><td>1973-01-01</td></tr><tr><td>11</td><td>8</td><td>455.0</td><td>225</td><td>12.0</td><td>buick electra 225 custom</td><td>USA</td><td>4951</td><td>1973-01-01</td></tr><tr><td>11</td><td>8</td><td>360.0</td><td>175</td><td>13.0</td><td>amc ambassador brougham</td><td>USA</td><td>3821</td><td>1973-01-01</td></tr><tr><td>16.5</td><td>6</td><td>225.0</td><td>105</td><td>18.0</td><td>plymouth valiant</td><td>USA</td><td>3121</td><td>1973-01-01</td></tr><tr><td>18</td><td>6</td><td>250.0</td><td>100</td><td>16.0</td><td>chevrolet nova custom</td><td>USA</td><td>3278</td><td>1973-01-01</td></tr><tr><td>16</td><td>6</td><td>232.0</td><td>100</td><td>18.0</td><td>amc hornet</td><td>USA</td><td>2945</td><td>1973-01-01</td></tr><tr><td>16.5</td><td>6</td><td>250.0</td><td>88</td><td>18.0</td><td>ford maverick</td><td>USA</td><td>3021</td><td>1973-01-01</td></tr><tr><td>16</td><td>6</td><td>198.0</td><td>95</td><td>23.0</td><td>plymouth duster</td><td>USA</td><td>2904</td><td>1973-01-01</td></tr><tr><td>21</td><td>4</td><td>97.0</td><td>46</td><td>26.0</td><td>volkswagen super beetle</td><td>Europe</td><td>1950</td><td>1973-01-01</td></tr><tr><td>14</td><td>8</td><td>400.0</td><td>150</td><td>11.0</td><td>chevrolet impala</td><td>USA</td><td>4997</td><td>1973-01-01</td></tr><tr><td>12.5</td><td>8</td><td>400.0</td><td>167</td><td>12.0</td><td>ford country</td><td>USA</td><td>4906</td><td>1973-01-01</td></tr><tr><td>13</td><td>8</td><td>360.0</td><td>170</td><td>13.0</td><td>plymouth custom suburb</td><td>USA</td><td>4654</td><td>1973-01-01</td></tr><tr><td>12.5</td><td>8</td><td>350.0</td><td>180</td><td>12.0</td><td>oldsmobile vista cruiser</td><td>USA</td><td>4499</td><td>1973-01-01</td></tr><tr><td>15</td><td>6</td><td>232.0</td><td>100</td><td>18.0</td><td>amc gremlin</td><td>USA</td><td>2789</td><td>1973-01-01</td></tr><tr><td>19</td><td>4</td><td>97.0</td><td>88</td><td>20.0</td><td>toyota carina</td><td>Japan</td><td>2279</td><td>1973-01-01</td></tr><tr><td>19.5</td><td>4</td><td>140.0</td><td>72</td><td>21.0</td><td>chevrolet vega</td><td>USA</td><td>2401</td><td>1973-01-01</td></tr><tr><td>16.5</td><td>4</td><td>108.0</td><td>94</td><td>22.0</td><td>datsun 610</td><td>Japan</td><td>2379</td><td>1973-01-01</td></tr><tr><td>13.5</td><td>3</td><td>70.0</td><td>90</td><td>18.0</td><td>maxda rx3</td><td>Japan</td><td>2124</td><td>1973-01-01</td></tr><tr><td>18.5</td><td>4</td><td>122.0</td><td>85</td><td>19.0</td><td>ford pinto</td><td>USA</td><td>2310</td><td>1973-01-01</td></tr><tr><td>14</td><td>6</td><td>155.0</td><td>107</td><td>21.0</td><td>mercury capri v6</td><td>USA</td><td>2472</td><td>1973-01-01</td></tr><tr><td>15.5</td><td>4</td><td>98.0</td><td>90</td><td>26.0</td><td>fiat 124 sport coupe</td><td>Europe</td><td>2265</td><td>1973-01-01</td></tr><tr><td>13</td><td>8</td><td>350.0</td><td>145</td><td>15.0</td><td>chevrolet monte carlo s</td><td>USA</td><td>4082</td><td>1973-01-01</td></tr><tr><td>9.5</td><td>8</td><td>400.0</td><td>230</td><td>16.0</td><td>pontiac grand prix</td><td>USA</td><td>4278</td><td>1973-01-01</td></tr><tr><td>19.5</td><td>4</td><td>68.0</td><td>49</td><td>29.0</td><td>fiat 128</td><td>Europe</td><td>1867</td><td>1973-01-01</td></tr><tr><td>15.5</td><td>4</td><td>116.0</td><td>75</td><td>24.0</td><td>opel manta</td><td>Europe</td><td>2158</td><td>1973-01-01</td></tr><tr><td>14</td><td>4</td><td>114.0</td><td>91</td><td>20.0</td><td>audi 100ls</td><td>Europe</td><td>2582</td><td>1973-01-01</td></tr><tr><td>15.5</td><td>4</td><td>121.0</td><td>112</td><td>19.0</td><td>volvo 144ea</td><td>Europe</td><td>2868</td><td>1973-01-01</td></tr><tr><td>11</td><td>8</td><td>318.0</td><td>150</td><td>15.0</td><td>dodge dart custom</td><td>USA</td><td>3399</td><td>1973-01-01</td></tr><tr><td>14</td><td>4</td><td>121.0</td><td>110</td><td>24.0</td><td>saab 99le</td><td>Europe</td><td>2660</td><td>1973-01-01</td></tr><tr><td>13.5</td><td>6</td><td>156.0</td><td>122</td><td>20.0</td><td>toyota mark ii</td><td>Japan</td><td>2807</td><td>1973-01-01</td></tr><tr><td>11</td><td>8</td><td>350.0</td><td>180</td><td>11.0</td><td>oldsmobile omega</td><td>USA</td><td>3664</td><td>1973-01-01</td></tr><tr><td>16.5</td><td>6</td><td>198.0</td><td>95</td><td>20.0</td><td>plymouth duster</td><td>USA</td><td>3102</td><td>1974-01-01</td></tr><tr><td>17</td><td>6</td><td>200.0</td><td>null</td><td>21.0</td><td>ford maverick</td><td>USA</td><td>2875</td><td>1974-01-01</td></tr><tr><td>16</td><td>6</td><td>232.0</td><td>100</td><td>19.0</td><td>amc hornet</td><td>USA</td><td>2901</td><td>1974-01-01</td></tr><tr><td>17</td><td>6</td><td>250.0</td><td>100</td><td>15.0</td><td>chevrolet nova</td><td>USA</td><td>3336</td><td>1974-01-01</td></tr><tr><td>19</td><td>4</td><td>79.0</td><td>67</td><td>31.0</td><td>datsun b210</td><td>Japan</td><td>1950</td><td>1974-01-01</td></tr><tr><td>16.5</td><td>4</td><td>122.0</td><td>80</td><td>26.0</td><td>ford pinto</td><td>USA</td><td>2451</td><td>1974-01-01</td></tr><tr><td>21</td><td>4</td><td>71.0</td><td>65</td><td>32.0</td><td>toyota corolla 1200</td><td>Japan</td><td>1836</td><td>1974-01-01</td></tr><tr><td>17</td><td>4</td><td>140.0</td><td>75</td><td>25.0</td><td>chevrolet vega</td><td>USA</td><td>2542</td><td>1974-01-01</td></tr><tr><td>17</td><td>6</td><td>250.0</td><td>100</td><td>16.0</td><td>chevrolet chevelle malibu classic</td><td>USA</td><td>3781</td><td>1974-01-01</td></tr><tr><td>18</td><td>6</td><td>258.0</td><td>110</td><td>16.0</td><td>amc matador</td><td>USA</td><td>3632</td><td>1974-01-01</td></tr><tr><td>16.5</td><td>6</td><td>225.0</td><td>105</td><td>18.0</td><td>plymouth satellite sebring</td><td>USA</td><td>3613</td><td>1974-01-01</td></tr><tr><td>14</td><td>8</td><td>302.0</td><td>140</td><td>16.0</td><td>ford gran torino</td><td>USA</td><td>4141</td><td>1974-01-01</td></tr><tr><td>14.5</td><td>8</td><td>350.0</td><td>150</td><td>13.0</td><td>buick century luxus (sw)</td><td>USA</td><td>4699</td><td>1974-01-01</td></tr><tr><td>13.5</td><td>8</td><td>318.0</td><td>150</td><td>14.0</td><td>dodge coronet custom (sw)</td><td>USA</td><td>4457</td><td>1974-01-01</td></tr><tr><td>16</td><td>8</td><td>302.0</td><td>140</td><td>14.0</td><td>ford gran torino (sw)</td><td>USA</td><td>4638</td><td>1974-01-01</td></tr><tr><td>15.5</td><td>8</td><td>304.0</td><td>150</td><td>14.0</td><td>amc matador (sw)</td><td>USA</td><td>4257</td><td>1974-01-01</td></tr><tr><td>16.5</td><td>4</td><td>98.0</td><td>83</td><td>29.0</td><td>audi fox</td><td>Europe</td><td>2219</td><td>1974-01-01</td></tr><tr><td>15.5</td><td>4</td><td>79.0</td><td>67</td><td>26.0</td><td>volkswagen dasher</td><td>Europe</td><td>1963</td><td>1974-01-01</td></tr><tr><td>14.5</td><td>4</td><td>97.0</td><td>78</td><td>26.0</td><td>opel manta</td><td>Europe</td><td>2300</td><td>1974-01-01</td></tr><tr><td>16.5</td><td>4</td><td>76.0</td><td>52</td><td>31.0</td><td>toyota corona</td><td>Japan</td><td>1649</td><td>1974-01-01</td></tr><tr><td>19</td><td>4</td><td>83.0</td><td>61</td><td>32.0</td><td>datsun 710</td><td>Japan</td><td>2003</td><td>1974-01-01</td></tr><tr><td>14.5</td><td>4</td><td>90.0</td><td>75</td><td>28.0</td><td>dodge colt</td><td>USA</td><td>2125</td><td>1974-01-01</td></tr><tr><td>15.5</td><td>4</td><td>90.0</td><td>75</td><td>24.0</td><td>fiat 128</td><td>Europe</td><td>2108</td><td>1974-01-01</td></tr><tr><td>14</td><td>4</td><td>116.0</td><td>75</td><td>26.0</td><td>fiat 124 tc</td><td>Europe</td><td>2246</td><td>1974-01-01</td></tr><tr><td>15</td><td>4</td><td>120.0</td><td>97</td><td>24.0</td><td>honda civic</td><td>Japan</td><td>2489</td><td>1974-01-01</td></tr><tr><td>15.5</td><td>4</td><td>108.0</td><td>93</td><td>26.0</td><td>subaru</td><td>Japan</td><td>2391</td><td>1974-01-01</td></tr><tr><td>16</td><td>4</td><td>79.0</td><td>67</td><td>31.0</td><td>fiat x1.9</td><td>Europe</td><td>2000</td><td>1974-01-01</td></tr><tr><td>16</td><td>6</td><td>225.0</td><td>95</td><td>19.0</td><td>plymouth valiant custom</td><td>USA</td><td>3264</td><td>1975-01-01</td></tr><tr><td>16</td><td>6</td><td>250.0</td><td>105</td><td>18.0</td><td>chevrolet nova</td><td>USA</td><td>3459</td><td>1975-01-01</td></tr><tr><td>21</td><td>6</td><td>250.0</td><td>72</td><td>15.0</td><td>mercury monarch</td><td>USA</td><td>3432</td><td>1975-01-01</td></tr><tr><td>19.5</td><td>6</td><td>250.0</td><td>72</td><td>15.0</td><td>ford maverick</td><td>USA</td><td>3158</td><td>1975-01-01</td></tr><tr><td>11.5</td><td>8</td><td>400.0</td><td>170</td><td>16.0</td><td>pontiac catalina</td><td>USA</td><td>4668</td><td>1975-01-01</td></tr><tr><td>14</td><td>8</td><td>350.0</td><td>145</td><td>15.0</td><td>chevrolet bel air</td><td>USA</td><td>4440</td><td>1975-01-01</td></tr><tr><td>14.5</td><td>8</td><td>318.0</td><td>150</td><td>16.0</td><td>plymouth grand fury</td><td>USA</td><td>4498</td><td>1975-01-01</td></tr><tr><td>13.5</td><td>8</td><td>351.0</td><td>148</td><td>14.0</td><td>ford ltd</td><td>USA</td><td>4657</td><td>1975-01-01</td></tr><tr><td>21</td><td>6</td><td>231.0</td><td>110</td><td>17.0</td><td>buick century</td><td>USA</td><td>3907</td><td>1975-01-01</td></tr><tr><td>18.5</td><td>6</td><td>250.0</td><td>105</td><td>16.0</td><td>chevroelt chevelle malibu</td><td>USA</td><td>3897</td><td>1975-01-01</td></tr><tr><td>19</td><td>6</td><td>258.0</td><td>110</td><td>15.0</td><td>amc matador</td><td>USA</td><td>3730</td><td>1975-01-01</td></tr><tr><td>19</td><td>6</td><td>225.0</td><td>95</td><td>18.0</td><td>plymouth fury</td><td>USA</td><td>3785</td><td>1975-01-01</td></tr><tr><td>15</td><td>6</td><td>231.0</td><td>110</td><td>21.0</td><td>buick skyhawk</td><td>USA</td><td>3039</td><td>1975-01-01</td></tr><tr><td>13.5</td><td>8</td><td>262.0</td><td>110</td><td>20.0</td><td>chevrolet monza 2+2</td><td>USA</td><td>3221</td><td>1975-01-01</td></tr><tr><td>12</td><td>8</td><td>302.0</td><td>129</td><td>13.0</td><td>ford mustang ii</td><td>USA</td><td>3169</td><td>1975-01-01</td></tr><tr><td>16</td><td>4</td><td>97.0</td><td>75</td><td>29.0</td><td>toyota corolla</td><td>Japan</td><td>2171</td><td>1975-01-01</td></tr><tr><td>17</td><td>4</td><td>140.0</td><td>83</td><td>23.0</td><td>ford pinto</td><td>USA</td><td>2639</td><td>1975-01-01</td></tr><tr><td>16</td><td>6</td><td>232.0</td><td>100</td><td>20.0</td><td>amc gremlin</td><td>USA</td><td>2914</td><td>1975-01-01</td></tr><tr><td>18.5</td><td>4</td><td>140.0</td><td>78</td><td>23.0</td><td>pontiac astro</td><td>USA</td><td>2592</td><td>1975-01-01</td></tr><tr><td>13.5</td><td>4</td><td>134.0</td><td>96</td><td>24.0</td><td>toyota corona</td><td>Japan</td><td>2702</td><td>1975-01-01</td></tr><tr><td>16.5</td><td>4</td><td>90.0</td><td>71</td><td>25.0</td><td>volkswagen dasher</td><td>Europe</td><td>2223</td><td>1975-01-01</td></tr><tr><td>17</td><td>4</td><td>119.0</td><td>97</td><td>24.0</td><td>datsun 710</td><td>Japan</td><td>2545</td><td>1975-01-01</td></tr><tr><td>14.5</td><td>6</td><td>171.0</td><td>97</td><td>18.0</td><td>ford pinto</td><td>USA</td><td>2984</td><td>1975-01-01</td></tr><tr><td>14</td><td>4</td><td>90.0</td><td>70</td><td>29.0</td><td>volkswagen rabbit</td><td>Europe</td><td>1937</td><td>1975-01-01</td></tr><tr><td>17</td><td>6</td><td>232.0</td><td>90</td><td>19.0</td><td>amc pacer</td><td>USA</td><td>3211</td><td>1975-01-01</td></tr><tr><td>15</td><td>4</td><td>115.0</td><td>95</td><td>23.0</td><td>audi 100ls</td><td>Europe</td><td>2694</td><td>1975-01-01</td></tr><tr><td>17</td><td>4</td><td>120.0</td><td>88</td><td>23.0</td><td>peugeot 504</td><td>Europe</td><td>2957</td><td>1975-01-01</td></tr><tr><td>14.5</td><td>4</td><td>121.0</td><td>98</td><td>22.0</td><td>volvo 244dl</td><td>Europe</td><td>2945</td><td>1975-01-01</td></tr><tr><td>13.5</td><td>4</td><td>121.0</td><td>115</td><td>25.0</td><td>saab 99le</td><td>Europe</td><td>2671</td><td>1975-01-01</td></tr><tr><td>17.5</td><td>4</td><td>91.0</td><td>53</td><td>33.0</td><td>honda civic cvcc</td><td>Japan</td><td>1795</td><td>1975-01-01</td></tr><tr><td>15.5</td><td>4</td><td>107.0</td><td>86</td><td>28.0</td><td>fiat 131</td><td>Europe</td><td>2464</td><td>1976-01-01</td></tr><tr><td>16.9</td><td>4</td><td>116.0</td><td>81</td><td>25.0</td><td>opel 1900</td><td>Europe</td><td>2220</td><td>1976-01-01</td></tr><tr><td>14.9</td><td>4</td><td>140.0</td><td>92</td><td>25.0</td><td>capri ii</td><td>USA</td><td>2572</td><td>1976-01-01</td></tr><tr><td>17.7</td><td>4</td><td>98.0</td><td>79</td><td>26.0</td><td>dodge colt</td><td>USA</td><td>2255</td><td>1976-01-01</td></tr><tr><td>15.3</td><td>4</td><td>101.0</td><td>83</td><td>27.0</td><td>renault 12tl</td><td>Europe</td><td>2202</td><td>1976-01-01</td></tr><tr><td>13</td><td>8</td><td>305.0</td><td>140</td><td>17.5</td><td>chevrolet chevelle malibu classic</td><td>USA</td><td>4215</td><td>1976-01-01</td></tr><tr><td>13</td><td>8</td><td>318.0</td><td>150</td><td>16.0</td><td>dodge coronet brougham</td><td>USA</td><td>4190</td><td>1976-01-01</td></tr><tr><td>13.9</td><td>8</td><td>304.0</td><td>120</td><td>15.5</td><td>amc matador</td><td>USA</td><td>3962</td><td>1976-01-01</td></tr><tr><td>12.8</td><td>8</td><td>351.0</td><td>152</td><td>14.5</td><td>ford gran torino</td><td>USA</td><td>4215</td><td>1976-01-01</td></tr><tr><td>15.4</td><td>6</td><td>225.0</td><td>100</td><td>22.0</td><td>plymouth valiant</td><td>USA</td><td>3233</td><td>1976-01-01</td></tr><tr><td>14.5</td><td>6</td><td>250.0</td><td>105</td><td>22.0</td><td>chevrolet nova</td><td>USA</td><td>3353</td><td>1976-01-01</td></tr><tr><td>17.6</td><td>6</td><td>200.0</td><td>81</td><td>24.0</td><td>ford maverick</td><td>USA</td><td>3012</td><td>1976-01-01</td></tr><tr><td>17.6</td><td>6</td><td>232.0</td><td>90</td><td>22.5</td><td>amc hornet</td><td>USA</td><td>3085</td><td>1976-01-01</td></tr><tr><td>22.2</td><td>4</td><td>85.0</td><td>52</td><td>29.0</td><td>chevrolet chevette</td><td>USA</td><td>2035</td><td>1976-01-01</td></tr><tr><td>22.1</td><td>4</td><td>98.0</td><td>60</td><td>24.5</td><td>chevrolet woody</td><td>USA</td><td>2164</td><td>1976-01-01</td></tr><tr><td>14.2</td><td>4</td><td>90.0</td><td>70</td><td>29.0</td><td>vw rabbit</td><td>Europe</td><td>1937</td><td>1976-01-01</td></tr><tr><td>17.4</td><td>4</td><td>91.0</td><td>53</td><td>33.0</td><td>honda civic</td><td>Japan</td><td>1795</td><td>1976-01-01</td></tr><tr><td>17.7</td><td>6</td><td>225.0</td><td>100</td><td>20.0</td><td>dodge aspen se</td><td>USA</td><td>3651</td><td>1976-01-01</td></tr><tr><td>21</td><td>6</td><td>250.0</td><td>78</td><td>18.0</td><td>ford granada ghia</td><td>USA</td><td>3574</td><td>1976-01-01</td></tr><tr><td>16.2</td><td>6</td><td>250.0</td><td>110</td><td>18.5</td><td>pontiac ventura sj</td><td>USA</td><td>3645</td><td>1976-01-01</td></tr><tr><td>17.8</td><td>6</td><td>258.0</td><td>95</td><td>17.5</td><td>amc pacer d/l</td><td>USA</td><td>3193</td><td>1976-01-01</td></tr><tr><td>12.2</td><td>4</td><td>97.0</td><td>71</td><td>29.5</td><td>volkswagen rabbit</td><td>Europe</td><td>1825</td><td>1976-01-01</td></tr><tr><td>17</td><td>4</td><td>85.0</td><td>70</td><td>32.0</td><td>datsun b-210</td><td>Japan</td><td>1990</td><td>1976-01-01</td></tr><tr><td>16.4</td><td>4</td><td>97.0</td><td>75</td><td>28.0</td><td>toyota corolla</td><td>Japan</td><td>2155</td><td>1976-01-01</td></tr><tr><td>13.6</td><td>4</td><td>140.0</td><td>72</td><td>26.5</td><td>ford pinto</td><td>USA</td><td>2565</td><td>1976-01-01</td></tr><tr><td>15.7</td><td>4</td><td>130.0</td><td>102</td><td>20.0</td><td>volvo 245</td><td>Europe</td><td>3150</td><td>1976-01-01</td></tr><tr><td>13.2</td><td>8</td><td>318.0</td><td>150</td><td>13.0</td><td>plymouth volare premier v8</td><td>USA</td><td>3940</td><td>1976-01-01</td></tr><tr><td>21.9</td><td>4</td><td>120.0</td><td>88</td><td>19.0</td><td>peugeot 504</td><td>Europe</td><td>3270</td><td>1976-01-01</td></tr><tr><td>15.5</td><td>6</td><td>156.0</td><td>108</td><td>19.0</td><td>toyota mark ii</td><td>Japan</td><td>2930</td><td>1976-01-01</td></tr><tr><td>16.7</td><td>6</td><td>168.0</td><td>120</td><td>16.5</td><td>mercedes-benz 280s</td><td>Europe</td><td>3820</td><td>1976-01-01</td></tr><tr><td>12.1</td><td>8</td><td>350.0</td><td>180</td><td>16.5</td><td>cadillac seville</td><td>USA</td><td>4380</td><td>1976-01-01</td></tr><tr><td>12</td><td>8</td><td>350.0</td><td>145</td><td>13.0</td><td>chevy c10</td><td>USA</td><td>4055</td><td>1976-01-01</td></tr><tr><td>15</td><td>8</td><td>302.0</td><td>130</td><td>13.0</td><td>ford f108</td><td>USA</td><td>3870</td><td>1976-01-01</td></tr><tr><td>14</td><td>8</td><td>318.0</td><td>150</td><td>13.0</td><td>dodge d100</td><td>USA</td><td>3755</td><td>1976-01-01</td></tr><tr><td>18.5</td><td>4</td><td>98.0</td><td>68</td><td>31.5</td><td>honda Accelerationord cvcc</td><td>Japan</td><td>2045</td><td>1977-01-01</td></tr><tr><td>14.8</td><td>4</td><td>111.0</td><td>80</td><td>30.0</td><td>buick opel isuzu deluxe</td><td>USA</td><td>2155</td><td>1977-01-01</td></tr><tr><td>18.6</td><td>4</td><td>79.0</td><td>58</td><td>36.0</td><td>renault 5 gtl</td><td>Europe</td><td>1825</td><td>1977-01-01</td></tr><tr><td>15.5</td><td>4</td><td>122.0</td><td>96</td><td>25.5</td><td>plymouth arrow gs</td><td>USA</td><td>2300</td><td>1977-01-01</td></tr><tr><td>16.8</td><td>4</td><td>85.0</td><td>70</td><td>33.5</td><td>datsun f-10 hatchback</td><td>Japan</td><td>1945</td><td>1977-01-01</td></tr><tr><td>12.5</td><td>8</td><td>305.0</td><td>145</td><td>17.5</td><td>chevrolet caprice classic</td><td>USA</td><td>3880</td><td>1977-01-01</td></tr><tr><td>19</td><td>8</td><td>260.0</td><td>110</td><td>17.0</td><td>oldsmobile cutlass supreme</td><td>USA</td><td>4060</td><td>1977-01-01</td></tr><tr><td>13.7</td><td>8</td><td>318.0</td><td>145</td><td>15.5</td><td>dodge monaco brougham</td><td>USA</td><td>4140</td><td>1977-01-01</td></tr><tr><td>14.9</td><td>8</td><td>302.0</td><td>130</td><td>15.0</td><td>mercury cougar brougham</td><td>USA</td><td>4295</td><td>1977-01-01</td></tr><tr><td>16.4</td><td>6</td><td>250.0</td><td>110</td><td>17.5</td><td>chevrolet concours</td><td>USA</td><td>3520</td><td>1977-01-01</td></tr><tr><td>16.9</td><td>6</td><td>231.0</td><td>105</td><td>20.5</td><td>buick skylark</td><td>USA</td><td>3425</td><td>1977-01-01</td></tr><tr><td>17.7</td><td>6</td><td>225.0</td><td>100</td><td>19.0</td><td>plymouth volare custom</td><td>USA</td><td>3630</td><td>1977-01-01</td></tr><tr><td>19</td><td>6</td><td>250.0</td><td>98</td><td>18.5</td><td>ford granada</td><td>USA</td><td>3525</td><td>1977-01-01</td></tr><tr><td>11.1</td><td>8</td><td>400.0</td><td>180</td><td>16.0</td><td>pontiac grand prix lj</td><td>USA</td><td>4220</td><td>1977-01-01</td></tr><tr><td>11.4</td><td>8</td><td>350.0</td><td>170</td><td>15.5</td><td>chevrolet monte carlo landau</td><td>USA</td><td>4165</td><td>1977-01-01</td></tr><tr><td>12.2</td><td>8</td><td>400.0</td><td>190</td><td>15.5</td><td>chrysler cordoba</td><td>USA</td><td>4325</td><td>1977-01-01</td></tr><tr><td>14.5</td><td>8</td><td>351.0</td><td>149</td><td>16.0</td><td>ford thunderbird</td><td>USA</td><td>4335</td><td>1977-01-01</td></tr><tr><td>14.5</td><td>4</td><td>97.0</td><td>78</td><td>29.0</td><td>volkswagen rabbit custom</td><td>Europe</td><td>1940</td><td>1977-01-01</td></tr><tr><td>16</td><td>4</td><td>151.0</td><td>88</td><td>24.5</td><td>pontiac sunbird coupe</td><td>USA</td><td>2740</td><td>1977-01-01</td></tr><tr><td>18.2</td><td>4</td><td>97.0</td><td>75</td><td>26.0</td><td>toyota corolla liftback</td><td>Japan</td><td>2265</td><td>1977-01-01</td></tr><tr><td>15.8</td><td>4</td><td>140.0</td><td>89</td><td>25.5</td><td>ford mustang ii 2+2</td><td>USA</td><td>2755</td><td>1977-01-01</td></tr><tr><td>17</td><td>4</td><td>98.0</td><td>63</td><td>30.5</td><td>chevrolet chevette</td><td>USA</td><td>2051</td><td>1977-01-01</td></tr><tr><td>15.9</td><td>4</td><td>98.0</td><td>83</td><td>33.5</td><td>dodge colt m/m</td><td>USA</td><td>2075</td><td>1977-01-01</td></tr><tr><td>16.4</td><td>4</td><td>97.0</td><td>67</td><td>30.0</td><td>subaru dl</td><td>Japan</td><td>1985</td><td>1977-01-01</td></tr><tr><td>14.1</td><td>4</td><td>97.0</td><td>78</td><td>30.5</td><td>volkswagen dasher</td><td>Europe</td><td>2190</td><td>1977-01-01</td></tr><tr><td>14.5</td><td>6</td><td>146.0</td><td>97</td><td>22.0</td><td>datsun 810</td><td>Japan</td><td>2815</td><td>1977-01-01</td></tr><tr><td>12.8</td><td>4</td><td>121.0</td><td>110</td><td>21.5</td><td>bmw 320i</td><td>Europe</td><td>2600</td><td>1977-01-01</td></tr><tr><td>13.5</td><td>3</td><td>80.0</td><td>110</td><td>21.5</td><td>mazda rx-4</td><td>Japan</td><td>2720</td><td>1977-01-01</td></tr><tr><td>21.5</td><td>4</td><td>90.0</td><td>48</td><td>43.1</td><td>volkswagen rabbit custom diesel</td><td>Europe</td><td>1985</td><td>1978-01-01</td></tr><tr><td>14.4</td><td>4</td><td>98.0</td><td>66</td><td>36.1</td><td>ford fiesta</td><td>USA</td><td>1800</td><td>1978-01-01</td></tr><tr><td>19.4</td><td>4</td><td>78.0</td><td>52</td><td>32.8</td><td>mazda glc deluxe</td><td>Japan</td><td>1985</td><td>1978-01-01</td></tr><tr><td>18.6</td><td>4</td><td>85.0</td><td>70</td><td>39.4</td><td>datsun b210 gx</td><td>Japan</td><td>2070</td><td>1978-01-01</td></tr><tr><td>16.4</td><td>4</td><td>91.0</td><td>60</td><td>36.1</td><td>honda civic cvcc</td><td>Japan</td><td>1800</td><td>1978-01-01</td></tr><tr><td>15.5</td><td>8</td><td>260.0</td><td>110</td><td>19.9</td><td>oldsmobile cutlass salon brougham</td><td>USA</td><td>3365</td><td>1978-01-01</td></tr><tr><td>13.2</td><td>8</td><td>318.0</td><td>140</td><td>19.4</td><td>dodge diplomat</td><td>USA</td><td>3735</td><td>1978-01-01</td></tr><tr><td>12.8</td><td>8</td><td>302.0</td><td>139</td><td>20.2</td><td>mercury monarch ghia</td><td>USA</td><td>3570</td><td>1978-01-01</td></tr><tr><td>19.2</td><td>6</td><td>231.0</td><td>105</td><td>19.2</td><td>pontiac phoenix lj</td><td>USA</td><td>3535</td><td>1978-01-01</td></tr><tr><td>18.2</td><td>6</td><td>200.0</td><td>95</td><td>20.5</td><td>chevrolet malibu</td><td>USA</td><td>3155</td><td>1978-01-01</td></tr><tr><td>15.8</td><td>6</td><td>200.0</td><td>85</td><td>20.2</td><td>ford fairmont (auto)</td><td>USA</td><td>2965</td><td>1978-01-01</td></tr><tr><td>15.4</td><td>4</td><td>140.0</td><td>88</td><td>25.1</td><td>ford fairmont (man)</td><td>USA</td><td>2720</td><td>1978-01-01</td></tr><tr><td>17.2</td><td>6</td><td>225.0</td><td>100</td><td>20.5</td><td>plymouth volare</td><td>USA</td><td>3430</td><td>1978-01-01</td></tr><tr><td>17.2</td><td>6</td><td>232.0</td><td>90</td><td>19.4</td><td>amc concord</td><td>USA</td><td>3210</td><td>1978-01-01</td></tr><tr><td>15.8</td><td>6</td><td>231.0</td><td>105</td><td>20.6</td><td>buick century special</td><td>USA</td><td>3380</td><td>1978-01-01</td></tr><tr><td>16.7</td><td>6</td><td>200.0</td><td>85</td><td>20.8</td><td>mercury zephyr</td><td>USA</td><td>3070</td><td>1978-01-01</td></tr><tr><td>18.7</td><td>6</td><td>225.0</td><td>110</td><td>18.6</td><td>dodge aspen</td><td>USA</td><td>3620</td><td>1978-01-01</td></tr><tr><td>15.1</td><td>6</td><td>258.0</td><td>120</td><td>18.1</td><td>amc concord d/l</td><td>USA</td><td>3410</td><td>1978-01-01</td></tr><tr><td>13.2</td><td>8</td><td>305.0</td><td>145</td><td>19.2</td><td>chevrolet monte carlo landau</td><td>USA</td><td>3425</td><td>1978-01-01</td></tr><tr><td>13.4</td><td>6</td><td>231.0</td><td>165</td><td>17.7</td><td>buick regal sport coupe (turbo)</td><td>USA</td><td>3445</td><td>1978-01-01</td></tr><tr><td>11.2</td><td>8</td><td>302.0</td><td>139</td><td>18.1</td><td>ford futura</td><td>USA</td><td>3205</td><td>1978-01-01</td></tr><tr><td>13.7</td><td>8</td><td>318.0</td><td>140</td><td>17.5</td><td>dodge magnum xe</td><td>USA</td><td>4080</td><td>1978-01-01</td></tr><tr><td>16.5</td><td>4</td><td>98.0</td><td>68</td><td>30.0</td><td>chevrolet chevette</td><td>USA</td><td>2155</td><td>1978-01-01</td></tr><tr><td>14.2</td><td>4</td><td>134.0</td><td>95</td><td>27.5</td><td>toyota corona</td><td>Japan</td><td>2560</td><td>1978-01-01</td></tr><tr><td>14.7</td><td>4</td><td>119.0</td><td>97</td><td>27.2</td><td>datsun 510</td><td>Japan</td><td>2300</td><td>1978-01-01</td></tr><tr><td>14.5</td><td>4</td><td>105.0</td><td>75</td><td>30.9</td><td>dodge omni</td><td>USA</td><td>2230</td><td>1978-01-01</td></tr><tr><td>14.8</td><td>4</td><td>134.0</td><td>95</td><td>21.1</td><td>toyota celica gt liftback</td><td>Japan</td><td>2515</td><td>1978-01-01</td></tr><tr><td>16.7</td><td>4</td><td>156.0</td><td>105</td><td>23.2</td><td>plymouth sapporo</td><td>USA</td><td>2745</td><td>1978-01-01</td></tr><tr><td>17.6</td><td>4</td><td>151.0</td><td>85</td><td>23.8</td><td>oldsmobile starfire sx</td><td>USA</td><td>2855</td><td>1978-01-01</td></tr><tr><td>14.9</td><td>4</td><td>119.0</td><td>97</td><td>23.9</td><td>datsun 200-sx</td><td>Japan</td><td>2405</td><td>1978-01-01</td></tr><tr><td>15.9</td><td>5</td><td>131.0</td><td>103</td><td>20.3</td><td>audi 5000</td><td>Europe</td><td>2830</td><td>1978-01-01</td></tr><tr><td>13.6</td><td>6</td><td>163.0</td><td>125</td><td>17.0</td><td>volvo 264gl</td><td>Europe</td><td>3140</td><td>1978-01-01</td></tr><tr><td>15.7</td><td>4</td><td>121.0</td><td>115</td><td>21.6</td><td>saab 99gle</td><td>Europe</td><td>2795</td><td>1978-01-01</td></tr><tr><td>15.8</td><td>6</td><td>163.0</td><td>133</td><td>16.2</td><td>peugeot 604sl</td><td>Europe</td><td>3410</td><td>1978-01-01</td></tr><tr><td>14.9</td><td>4</td><td>89.0</td><td>71</td><td>31.5</td><td>volkswagen scirocco</td><td>Europe</td><td>1990</td><td>1978-01-01</td></tr><tr><td>16.6</td><td>4</td><td>98.0</td><td>68</td><td>29.5</td><td>honda Accelerationord lx</td><td>Japan</td><td>2135</td><td>1978-01-01</td></tr><tr><td>15.4</td><td>6</td><td>231.0</td><td>115</td><td>21.5</td><td>pontiac lemans v6</td><td>USA</td><td>3245</td><td>1979-01-01</td></tr><tr><td>18.2</td><td>6</td><td>200.0</td><td>85</td><td>19.8</td><td>mercury zephyr 6</td><td>USA</td><td>2990</td><td>1979-01-01</td></tr><tr><td>17.3</td><td>4</td><td>140.0</td><td>88</td><td>22.3</td><td>ford fairmont 4</td><td>USA</td><td>2890</td><td>1979-01-01</td></tr><tr><td>18.2</td><td>6</td><td>232.0</td><td>90</td><td>20.2</td><td>amc concord dl 6</td><td>USA</td><td>3265</td><td>1979-01-01</td></tr><tr><td>16.6</td><td>6</td><td>225.0</td><td>110</td><td>20.6</td><td>dodge aspen 6</td><td>USA</td><td>3360</td><td>1979-01-01</td></tr><tr><td>15.4</td><td>8</td><td>305.0</td><td>130</td><td>17.0</td><td>chevrolet caprice classic</td><td>USA</td><td>3840</td><td>1979-01-01</td></tr><tr><td>13.4</td><td>8</td><td>302.0</td><td>129</td><td>17.6</td><td>ford ltd landau</td><td>USA</td><td>3725</td><td>1979-01-01</td></tr><tr><td>13.2</td><td>8</td><td>351.0</td><td>138</td><td>16.5</td><td>mercury grand marquis</td><td>USA</td><td>3955</td><td>1979-01-01</td></tr><tr><td>15.2</td><td>8</td><td>318.0</td><td>135</td><td>18.2</td><td>dodge st. regis</td><td>USA</td><td>3830</td><td>1979-01-01</td></tr><tr><td>14.9</td><td>8</td><td>350.0</td><td>155</td><td>16.9</td><td>buick estate wagon (sw)</td><td>USA</td><td>4360</td><td>1979-01-01</td></tr><tr><td>14.3</td><td>8</td><td>351.0</td><td>142</td><td>15.5</td><td>ford country squire (sw)</td><td>USA</td><td>4054</td><td>1979-01-01</td></tr><tr><td>15</td><td>8</td><td>267.0</td><td>125</td><td>19.2</td><td>chevrolet malibu classic (sw)</td><td>USA</td><td>3605</td><td>1979-01-01</td></tr><tr><td>13</td><td>8</td><td>360.0</td><td>150</td><td>18.5</td><td>chrysler lebaron town @ country (sw)</td><td>USA</td><td>3940</td><td>1979-01-01</td></tr><tr><td>14</td><td>4</td><td>89.0</td><td>71</td><td>31.9</td><td>vw rabbit custom</td><td>Europe</td><td>1925</td><td>1979-01-01</td></tr><tr><td>15.2</td><td>4</td><td>86.0</td><td>65</td><td>34.1</td><td>maxda glc deluxe</td><td>Japan</td><td>1975</td><td>1979-01-01</td></tr><tr><td>14.4</td><td>4</td><td>98.0</td><td>80</td><td>35.7</td><td>dodge colt hatchback custom</td><td>USA</td><td>1915</td><td>1979-01-01</td></tr><tr><td>15</td><td>4</td><td>121.0</td><td>80</td><td>27.4</td><td>amc spirit dl</td><td>USA</td><td>2670</td><td>1979-01-01</td></tr><tr><td>20.1</td><td>5</td><td>183.0</td><td>77</td><td>25.4</td><td>mercedes benz 300d</td><td>Europe</td><td>3530</td><td>1979-01-01</td></tr><tr><td>17.4</td><td>8</td><td>350.0</td><td>125</td><td>23.0</td><td>cadillac eldorado</td><td>USA</td><td>3900</td><td>1979-01-01</td></tr><tr><td>24.8</td><td>4</td><td>141.0</td><td>71</td><td>27.2</td><td>peugeot 504</td><td>Europe</td><td>3190</td><td>1979-01-01</td></tr><tr><td>22.2</td><td>8</td><td>260.0</td><td>90</td><td>23.9</td><td>oldsmobile cutlass salon brougham</td><td>USA</td><td>3420</td><td>1979-01-01</td></tr><tr><td>13.2</td><td>4</td><td>105.0</td><td>70</td><td>34.2</td><td>plymouth horizon</td><td>USA</td><td>2200</td><td>1979-01-01</td></tr><tr><td>14.9</td><td>4</td><td>105.0</td><td>70</td><td>34.5</td><td>plymouth horizon tc3</td><td>USA</td><td>2150</td><td>1979-01-01</td></tr><tr><td>19.2</td><td>4</td><td>85.0</td><td>65</td><td>31.8</td><td>datsun 210</td><td>Japan</td><td>2020</td><td>1979-01-01</td></tr><tr><td>14.7</td><td>4</td><td>91.0</td><td>69</td><td>37.3</td><td>fiat strada custom</td><td>Europe</td><td>2130</td><td>1979-01-01</td></tr><tr><td>16</td><td>4</td><td>151.0</td><td>90</td><td>28.4</td><td>buick skylark limited</td><td>USA</td><td>2670</td><td>1979-01-01</td></tr><tr><td>11.3</td><td>6</td><td>173.0</td><td>115</td><td>28.8</td><td>chevrolet citation</td><td>USA</td><td>2595</td><td>1979-01-01</td></tr><tr><td>12.9</td><td>6</td><td>173.0</td><td>115</td><td>26.8</td><td>oldsmobile omega brougham</td><td>USA</td><td>2700</td><td>1979-01-01</td></tr><tr><td>13.2</td><td>4</td><td>151.0</td><td>90</td><td>33.5</td><td>pontiac phoenix</td><td>USA</td><td>2556</td><td>1979-01-01</td></tr><tr><td>14.7</td><td>4</td><td>98.0</td><td>76</td><td>41.5</td><td>vw rabbit</td><td>Europe</td><td>2144</td><td>1980-01-01</td></tr><tr><td>18.8</td><td>4</td><td>89.0</td><td>60</td><td>38.1</td><td>toyota corolla tercel</td><td>Japan</td><td>1968</td><td>1980-01-01</td></tr><tr><td>15.5</td><td>4</td><td>98.0</td><td>70</td><td>32.1</td><td>chevrolet chevette</td><td>USA</td><td>2120</td><td>1980-01-01</td></tr><tr><td>16.4</td><td>4</td><td>86.0</td><td>65</td><td>37.2</td><td>datsun 310</td><td>Japan</td><td>2019</td><td>1980-01-01</td></tr><tr><td>16.5</td><td>4</td><td>151.0</td><td>90</td><td>28.0</td><td>chevrolet citation</td><td>USA</td><td>2678</td><td>1980-01-01</td></tr><tr><td>18.1</td><td>4</td><td>140.0</td><td>88</td><td>26.4</td><td>ford fairmont</td><td>USA</td><td>2870</td><td>1980-01-01</td></tr><tr><td>20.1</td><td>4</td><td>151.0</td><td>90</td><td>24.3</td><td>amc concord</td><td>USA</td><td>3003</td><td>1980-01-01</td></tr><tr><td>18.7</td><td>6</td><td>225.0</td><td>90</td><td>19.1</td><td>dodge aspen</td><td>USA</td><td>3381</td><td>1980-01-01</td></tr><tr><td>15.8</td><td>4</td><td>97.0</td><td>78</td><td>34.3</td><td>audi 4000</td><td>Europe</td><td>2188</td><td>1980-01-01</td></tr><tr><td>15.5</td><td>4</td><td>134.0</td><td>90</td><td>29.8</td><td>toyota corona liftback</td><td>Japan</td><td>2711</td><td>1980-01-01</td></tr><tr><td>17.5</td><td>4</td><td>120.0</td><td>75</td><td>31.3</td><td>mazda 626</td><td>Japan</td><td>2542</td><td>1980-01-01</td></tr><tr><td>15</td><td>4</td><td>119.0</td><td>92</td><td>37.0</td><td>datsun 510 hatchback</td><td>Japan</td><td>2434</td><td>1980-01-01</td></tr><tr><td>15.2</td><td>4</td><td>108.0</td><td>75</td><td>32.2</td><td>toyota corolla</td><td>Japan</td><td>2265</td><td>1980-01-01</td></tr><tr><td>17.9</td><td>4</td><td>86.0</td><td>65</td><td>46.6</td><td>mazda glc</td><td>Japan</td><td>2110</td><td>1980-01-01</td></tr><tr><td>14.4</td><td>4</td><td>156.0</td><td>105</td><td>27.9</td><td>dodge colt</td><td>USA</td><td>2800</td><td>1980-01-01</td></tr><tr><td>19.2</td><td>4</td><td>85.0</td><td>65</td><td>40.8</td><td>datsun 210</td><td>Japan</td><td>2110</td><td>1980-01-01</td></tr><tr><td>21.7</td><td>4</td><td>90.0</td><td>48</td><td>44.3</td><td>vw rabbit c (diesel)</td><td>Europe</td><td>2085</td><td>1980-01-01</td></tr><tr><td>23.7</td><td>4</td><td>90.0</td><td>48</td><td>43.4</td><td>vw dasher (diesel)</td><td>Europe</td><td>2335</td><td>1980-01-01</td></tr><tr><td>19.9</td><td>5</td><td>121.0</td><td>67</td><td>36.4</td><td>audi 5000s (diesel)</td><td>Europe</td><td>2950</td><td>1980-01-01</td></tr><tr><td>21.8</td><td>4</td><td>146.0</td><td>67</td><td>30.0</td><td>mercedes-benz 240d</td><td>Europe</td><td>3250</td><td>1980-01-01</td></tr><tr><td>13.8</td><td>4</td><td>91.0</td><td>67</td><td>44.6</td><td>honda civic 1500 gl</td><td>Japan</td><td>1850</td><td>1980-01-01</td></tr><tr><td>17.3</td><td>4</td><td>85.0</td><td>null</td><td>40.9</td><td>renault lecar deluxe</td><td>Europe</td><td>1835</td><td>1980-01-01</td></tr><tr><td>18</td><td>4</td><td>97.0</td><td>67</td><td>33.8</td><td>subaru dl</td><td>Japan</td><td>2145</td><td>1980-01-01</td></tr><tr><td>15.3</td><td>4</td><td>89.0</td><td>62</td><td>29.8</td><td>vokswagen rabbit</td><td>Europe</td><td>1845</td><td>1980-01-01</td></tr><tr><td>11.4</td><td>6</td><td>168.0</td><td>132</td><td>32.7</td><td>datsun 280-zx</td><td>Japan</td><td>2910</td><td>1980-01-01</td></tr><tr><td>12.5</td><td>3</td><td>70.0</td><td>100</td><td>23.7</td><td>mazda rx-7 gs</td><td>Japan</td><td>2420</td><td>1980-01-01</td></tr><tr><td>15.1</td><td>4</td><td>122.0</td><td>88</td><td>35.0</td><td>triumph tr7 coupe</td><td>Europe</td><td>2500</td><td>1980-01-01</td></tr><tr><td>14.3</td><td>4</td><td>140.0</td><td>null</td><td>23.6</td><td>ford mustang cobra</td><td>USA</td><td>2905</td><td>1980-01-01</td></tr><tr><td>17</td><td>4</td><td>107.0</td><td>72</td><td>32.4</td><td>honda Accelerationord</td><td>Japan</td><td>2290</td><td>1980-01-01</td></tr><tr><td>15.7</td><td>4</td><td>135.0</td><td>84</td><td>27.2</td><td>plymouth reliant</td><td>USA</td><td>2490</td><td>1982-01-01</td></tr><tr><td>16.4</td><td>4</td><td>151.0</td><td>84</td><td>26.6</td><td>buick skylark</td><td>USA</td><td>2635</td><td>1982-01-01</td></tr><tr><td>14.4</td><td>4</td><td>156.0</td><td>92</td><td>25.8</td><td>dodge aries wagon (sw)</td><td>USA</td><td>2620</td><td>1982-01-01</td></tr><tr><td>12.6</td><td>6</td><td>173.0</td><td>110</td><td>23.5</td><td>chevrolet citation</td><td>USA</td><td>2725</td><td>1982-01-01</td></tr><tr><td>12.9</td><td>4</td><td>135.0</td><td>84</td><td>30.0</td><td>plymouth reliant</td><td>USA</td><td>2385</td><td>1982-01-01</td></tr><tr><td>16.9</td><td>4</td><td>79.0</td><td>58</td><td>39.1</td><td>toyota starlet</td><td>Japan</td><td>1755</td><td>1982-01-01</td></tr><tr><td>16.4</td><td>4</td><td>86.0</td><td>64</td><td>39.0</td><td>plymouth champ</td><td>USA</td><td>1875</td><td>1982-01-01</td></tr><tr><td>16.1</td><td>4</td><td>81.0</td><td>60</td><td>35.1</td><td>honda civic 1300</td><td>Japan</td><td>1760</td><td>1982-01-01</td></tr><tr><td>17.8</td><td>4</td><td>97.0</td><td>67</td><td>32.3</td><td>subaru</td><td>Japan</td><td>2065</td><td>1982-01-01</td></tr><tr><td>19.4</td><td>4</td><td>85.0</td><td>65</td><td>37.0</td><td>datsun 210</td><td>Japan</td><td>1975</td><td>1982-01-01</td></tr><tr><td>17.3</td><td>4</td><td>89.0</td><td>62</td><td>37.7</td><td>toyota tercel</td><td>Japan</td><td>2050</td><td>1982-01-01</td></tr><tr><td>16</td><td>4</td><td>91.0</td><td>68</td><td>34.1</td><td>mazda glc 4</td><td>Japan</td><td>1985</td><td>1982-01-01</td></tr><tr><td>14.9</td><td>4</td><td>105.0</td><td>63</td><td>34.7</td><td>plymouth horizon 4</td><td>USA</td><td>2215</td><td>1982-01-01</td></tr><tr><td>16.2</td><td>4</td><td>98.0</td><td>65</td><td>34.4</td><td>ford escort 4w</td><td>USA</td><td>2045</td><td>1982-01-01</td></tr><tr><td>20.7</td><td>4</td><td>98.0</td><td>65</td><td>29.9</td><td>ford escort 2h</td><td>USA</td><td>2380</td><td>1982-01-01</td></tr><tr><td>14.2</td><td>4</td><td>105.0</td><td>74</td><td>33.0</td><td>volkswagen jetta</td><td>Europe</td><td>2190</td><td>1982-01-01</td></tr><tr><td>15.8</td><td>4</td><td>100.0</td><td>null</td><td>34.5</td><td>renault 18i</td><td>Europe</td><td>2320</td><td>1982-01-01</td></tr><tr><td>14.4</td><td>4</td><td>107.0</td><td>75</td><td>33.7</td><td>honda prelude</td><td>Japan</td><td>2210</td><td>1982-01-01</td></tr><tr><td>16.8</td><td>4</td><td>108.0</td><td>75</td><td>32.4</td><td>toyota corolla</td><td>Japan</td><td>2350</td><td>1982-01-01</td></tr><tr><td>14.8</td><td>4</td><td>119.0</td><td>100</td><td>32.9</td><td>datsun 200sx</td><td>Japan</td><td>2615</td><td>1982-01-01</td></tr><tr><td>18.3</td><td>4</td><td>120.0</td><td>74</td><td>31.6</td><td>mazda 626</td><td>Japan</td><td>2635</td><td>1982-01-01</td></tr><tr><td>20.4</td><td>4</td><td>141.0</td><td>80</td><td>28.1</td><td>peugeot 505s turbo diesel</td><td>Europe</td><td>3230</td><td>1982-01-01</td></tr><tr><td>15.4</td><td>4</td><td>121.0</td><td>110</td><td>null</td><td>saab 900s</td><td>Europe</td><td>2800</td><td>1982-01-01</td></tr><tr><td>19.6</td><td>6</td><td>145.0</td><td>76</td><td>30.7</td><td>volvo diesel</td><td>Europe</td><td>3160</td><td>1982-01-01</td></tr><tr><td>12.6</td><td>6</td><td>168.0</td><td>116</td><td>25.4</td><td>toyota cressida</td><td>Japan</td><td>2900</td><td>1982-01-01</td></tr><tr><td>13.8</td><td>6</td><td>146.0</td><td>120</td><td>24.2</td><td>datsun 810 maxima</td><td>Japan</td><td>2930</td><td>1982-01-01</td></tr><tr><td>15.8</td><td>6</td><td>231.0</td><td>110</td><td>22.4</td><td>buick century</td><td>USA</td><td>3415</td><td>1982-01-01</td></tr><tr><td>19</td><td>8</td><td>350.0</td><td>105</td><td>26.6</td><td>oldsmobile cutlass ls</td><td>USA</td><td>3725</td><td>1982-01-01</td></tr><tr><td>17.1</td><td>6</td><td>200.0</td><td>88</td><td>20.2</td><td>ford granada gl</td><td>USA</td><td>3060</td><td>1982-01-01</td></tr><tr><td>16.6</td><td>6</td><td>225.0</td><td>85</td><td>17.6</td><td>chrysler lebaron salon</td><td>USA</td><td>3465</td><td>1982-01-01</td></tr><tr><td>19.6</td><td>4</td><td>112.0</td><td>88</td><td>28.0</td><td>chevrolet cavalier</td><td>USA</td><td>2605</td><td>1982-01-01</td></tr><tr><td>18.6</td><td>4</td><td>112.0</td><td>88</td><td>27.0</td><td>chevrolet cavalier wagon</td><td>USA</td><td>2640</td><td>1982-01-01</td></tr><tr><td>18</td><td>4</td><td>112.0</td><td>88</td><td>34.0</td><td>chevrolet cavalier 2-door</td><td>USA</td><td>2395</td><td>1982-01-01</td></tr><tr><td>16.2</td><td>4</td><td>112.0</td><td>85</td><td>31.0</td><td>pontiac j2000 se hatchback</td><td>USA</td><td>2575</td><td>1982-01-01</td></tr><tr><td>16</td><td>4</td><td>135.0</td><td>84</td><td>29.0</td><td>dodge aries se</td><td>USA</td><td>2525</td><td>1982-01-01</td></tr><tr><td>18</td><td>4</td><td>151.0</td><td>90</td><td>27.0</td><td>pontiac phoenix</td><td>USA</td><td>2735</td><td>1982-01-01</td></tr><tr><td>16.4</td><td>4</td><td>140.0</td><td>92</td><td>24.0</td><td>ford fairmont futura</td><td>USA</td><td>2865</td><td>1982-01-01</td></tr><tr><td>20.5</td><td>4</td><td>151.0</td><td>null</td><td>23.0</td><td>amc concord dl</td><td>USA</td><td>3035</td><td>1982-01-01</td></tr><tr><td>15.3</td><td>4</td><td>105.0</td><td>74</td><td>36.0</td><td>volkswagen rabbit l</td><td>Europe</td><td>1980</td><td>1982-01-01</td></tr><tr><td>18.2</td><td>4</td><td>91.0</td><td>68</td><td>37.0</td><td>mazda glc custom l</td><td>Japan</td><td>2025</td><td>1982-01-01</td></tr><tr><td>17.6</td><td>4</td><td>91.0</td><td>68</td><td>31.0</td><td>mazda glc custom</td><td>Japan</td><td>1970</td><td>1982-01-01</td></tr><tr><td>14.7</td><td>4</td><td>105.0</td><td>63</td><td>38.0</td><td>plymouth horizon miser</td><td>USA</td><td>2125</td><td>1982-01-01</td></tr><tr><td>17.3</td><td>4</td><td>98.0</td><td>70</td><td>36.0</td><td>mercury lynx l</td><td>USA</td><td>2125</td><td>1982-01-01</td></tr><tr><td>14.5</td><td>4</td><td>120.0</td><td>88</td><td>36.0</td><td>nissan stanza xe</td><td>Japan</td><td>2160</td><td>1982-01-01</td></tr><tr><td>14.5</td><td>4</td><td>107.0</td><td>75</td><td>36.0</td><td>honda Accelerationord</td><td>Japan</td><td>2205</td><td>1982-01-01</td></tr><tr><td>16.9</td><td>4</td><td>108.0</td><td>70</td><td>34.0</td><td>toyota corolla</td><td>Japan</td><td>2245</td><td>1982-01-01</td></tr><tr><td>15</td><td>4</td><td>91.0</td><td>67</td><td>38.0</td><td>honda civic</td><td>Japan</td><td>1965</td><td>1982-01-01</td></tr><tr><td>15.7</td><td>4</td><td>91.0</td><td>67</td><td>32.0</td><td>honda civic (auto)</td><td>Japan</td><td>1965</td><td>1982-01-01</td></tr><tr><td>16.2</td><td>4</td><td>91.0</td><td>67</td><td>38.0</td><td>datsun 310 gx</td><td>Japan</td><td>1995</td><td>1982-01-01</td></tr><tr><td>16.4</td><td>6</td><td>181.0</td><td>110</td><td>25.0</td><td>buick century limited</td><td>USA</td><td>2945</td><td>1982-01-01</td></tr><tr><td>17</td><td>6</td><td>262.0</td><td>85</td><td>38.0</td><td>oldsmobile cutlass ciera (diesel)</td><td>USA</td><td>3015</td><td>1982-01-01</td></tr><tr><td>14.5</td><td>4</td><td>156.0</td><td>92</td><td>26.0</td><td>chrysler lebaron medallion</td><td>USA</td><td>2585</td><td>1982-01-01</td></tr><tr><td>14.7</td><td>6</td><td>232.0</td><td>112</td><td>22.0</td><td>ford granada l</td><td>USA</td><td>2835</td><td>1982-01-01</td></tr><tr><td>13.9</td><td>4</td><td>144.0</td><td>96</td><td>32.0</td><td>toyota celica gt</td><td>Japan</td><td>2665</td><td>1982-01-01</td></tr><tr><td>13</td><td>4</td><td>135.0</td><td>84</td><td>36.0</td><td>dodge charger 2.2</td><td>USA</td><td>2370</td><td>1982-01-01</td></tr><tr><td>17.3</td><td>4</td><td>151.0</td><td>90</td><td>27.0</td><td>chevrolet camaro</td><td>USA</td><td>2950</td><td>1982-01-01</td></tr><tr><td>15.6</td><td>4</td><td>140.0</td><td>86</td><td>27.0</td><td>ford mustang gl</td><td>USA</td><td>2790</td><td>1982-01-01</td></tr><tr><td>24.6</td><td>4</td><td>97.0</td><td>52</td><td>44.0</td><td>vw pickup</td><td>Europe</td><td>2130</td><td>1982-01-01</td></tr><tr><td>11.6</td><td>4</td><td>135.0</td><td>84</td><td>32.0</td><td>dodge rampage</td><td>USA</td><td>2295</td><td>1982-01-01</td></tr><tr><td>18.6</td><td>4</td><td>120.0</td><td>79</td><td>28.0</td><td>ford ranger</td><td>USA</td><td>2625</td><td>1982-01-01</td></tr><tr><td>19.4</td><td>4</td><td>119.0</td><td>82</td><td>31.0</td><td>chevy s-10</td><td>USA</td><td>2720</td><td>1982-01-01</td></tr></tbody></table></div>"
      ]
     },
     "metadata": {
      "application/vnd.databricks.v1+output": {
       "addedWidgets": {},
       "aggData": [],
       "aggError": "",
       "aggOverflow": false,
       "aggSchema": [],
       "aggSeriesLimitReached": false,
       "aggType": "",
       "arguments": {},
       "columnCustomDisplayInfos": {},
       "data": [
        [
         "12",
         8,
         307.0,
         130,
         18.0,
         "chevrolet chevelle malibu",
         "USA",
         3504,
         "1970-01-01"
        ],
        [
         "11.5",
         8,
         350.0,
         165,
         15.0,
         "buick skylark 320",
         "USA",
         3693,
         "1970-01-01"
        ],
        [
         "11",
         8,
         318.0,
         150,
         18.0,
         "plymouth satellite",
         "USA",
         3436,
         "1970-01-01"
        ],
        [
         "12",
         8,
         304.0,
         150,
         16.0,
         "amc rebel sst",
         "USA",
         3433,
         "1970-01-01"
        ],
        [
         "10.5",
         8,
         302.0,
         140,
         17.0,
         "ford torino",
         "USA",
         3449,
         "1970-01-01"
        ],
        [
         "10",
         8,
         429.0,
         198,
         15.0,
         "ford galaxie 500",
         "USA",
         4341,
         "1970-01-01"
        ],
        [
         "9",
         8,
         454.0,
         220,
         14.0,
         "chevrolet impala",
         "USA",
         4354,
         "1970-01-01"
        ],
        [
         "8.5",
         8,
         440.0,
         215,
         14.0,
         "plymouth fury iii",
         "USA",
         4312,
         "1970-01-01"
        ],
        [
         "10",
         8,
         455.0,
         225,
         14.0,
         "pontiac catalina",
         "USA",
         4425,
         "1970-01-01"
        ],
        [
         "8,5",
         8,
         390.0,
         190,
         15.0,
         "amc ambassador dpl",
         "USA",
         3850,
         "1970-01-01"
        ],
        [
         "17.5",
         4,
         133.0,
         115,
         null,
         "citroen ds-21 pallas",
         "Europe",
         3090,
         "1970-01-01"
        ],
        [
         "11.5",
         8,
         350.0,
         165,
         null,
         "chevrolet chevelle concours (sw)",
         "USA",
         4142,
         "1970-01-01"
        ],
        [
         "11",
         8,
         351.0,
         153,
         null,
         "ford torino (sw)",
         "USA",
         4034,
         "1970-01-01"
        ],
        [
         "10.5",
         8,
         383.0,
         175,
         null,
         "plymouth satellite (sw)",
         "USA",
         4166,
         "1970-01-01"
        ],
        [
         "11",
         8,
         360.0,
         175,
         null,
         "amc rebel sst (sw)",
         "USA",
         3850,
         "1970-01-01"
        ],
        [
         "10",
         8,
         383.0,
         170,
         15.0,
         "dodge challenger se",
         "USA",
         3563,
         "1970-01-01"
        ],
        [
         "8",
         8,
         340.0,
         160,
         14.0,
         "plymouth 'cuda 340",
         "USA",
         3609,
         "1970-01-01"
        ],
        [
         "8",
         8,
         302.0,
         140,
         null,
         "ford mustang boss 302",
         "USA",
         3353,
         "1970-01-01"
        ],
        [
         "9.5",
         8,
         400.0,
         150,
         15.0,
         "chevrolet monte carlo",
         "USA",
         3761,
         "1970-01-01"
        ],
        [
         "10",
         8,
         455.0,
         225,
         14.0,
         "buick estate wagon (sw)",
         "USA",
         3086,
         "1970-01-01"
        ],
        [
         "15",
         4,
         113.0,
         95,
         24.0,
         "toyota corona mark ii",
         "Japan",
         2372,
         "1970-01-01"
        ],
        [
         "15,5",
         6,
         198.0,
         95,
         22.0,
         "plymouth duster",
         "USA",
         2833,
         "1970-01-01"
        ],
        [
         "15.5",
         6,
         199.0,
         97,
         18.0,
         "amc hornet",
         "USA",
         2774,
         "1970-01-01"
        ],
        [
         "16",
         6,
         200.0,
         85,
         21.0,
         "ford maverick",
         "USA",
         2587,
         "1970-01-01"
        ],
        [
         "14.5",
         4,
         97.0,
         88,
         27.0,
         "datsun pl510",
         "Japan",
         2130,
         "1970-01-01"
        ],
        [
         "20.5",
         4,
         97.0,
         46,
         26.0,
         "volkswagen 1131 deluxe sedan",
         "Europe",
         1835,
         "1970-01-01"
        ],
        [
         "17.5",
         4,
         110.0,
         87,
         25.0,
         "peugeot    504",
         "Europe",
         2672,
         "1970-01-01"
        ],
        [
         "14.5",
         4,
         107.0,
         90,
         24.0,
         "audi 100 ls",
         "Europe",
         2430,
         "1970-01-01"
        ],
        [
         "17.5",
         4,
         104.0,
         95,
         25.0,
         "saab-99e",
         "Europe",
         2375,
         "1970-01-01"
        ],
        [
         "12.5",
         4,
         121.0,
         113,
         26.0,
         "bmw 2002",
         "Europe",
         2234,
         "1970-01-01"
        ],
        [
         "15",
         6,
         199.0,
         90,
         21.0,
         "amc gremlin",
         "USA",
         2648,
         "1970-01-01"
        ],
        [
         "14",
         8,
         360.0,
         215,
         10.0,
         "ford-f250",
         "USA",
         4615,
         "1970-01-01"
        ],
        [
         "15",
         8,
         307.0,
         200,
         10.0,
         "chevy c20",
         "USA",
         4376,
         "1970-01-01"
        ],
        [
         "13.5",
         8,
         318.0,
         210,
         11.0,
         "dodge d200",
         "USA",
         4382,
         "1970-01-01"
        ],
        [
         "18,5",
         8,
         304.0,
         193,
         9.0,
         "hi 1200d",
         "USA",
         4732,
         "1970-01-01"
        ],
        [
         "14.5",
         4,
         97.0,
         88,
         27.0,
         "datsun pl510",
         "Japan",
         2130,
         "1971-01-01"
        ],
        [
         "15.5",
         4,
         140.0,
         90,
         28.0,
         "chevrolet vega 2300",
         "USA",
         2264,
         "1971-01-01"
        ],
        [
         "14",
         4,
         113.0,
         95,
         25.0,
         "toyota corona",
         "Japan",
         2228,
         "1971-01-01"
        ],
        [
         "19",
         4,
         98.0,
         null,
         25.0,
         "ford pinto",
         "USA",
         2046,
         "1971-01-01"
        ],
        [
         "20",
         4,
         97.0,
         48,
         null,
         "volkswagen super beetle 117",
         "Europe",
         1978,
         "1971-01-01"
        ],
        [
         "13",
         6,
         232.0,
         100,
         19.0,
         "amc gremlin",
         "USA",
         2634,
         "1971-01-01"
        ],
        [
         "15.5",
         6,
         225.0,
         105,
         16.0,
         "plymouth-satellite custom",
         "USA",
         3439,
         "1971-01-01"
        ],
        [
         "15.5",
         6,
         250.0,
         100,
         17.0,
         "chevrolet chevelle malibu",
         "USA",
         3329,
         "1971-01-01"
        ],
        [
         "15.5",
         6,
         250.0,
         88,
         19.0,
         "ford torino 500",
         "USA",
         3302,
         "1971-01-01"
        ],
        [
         "15.5",
         6,
         232.0,
         100,
         18.0,
         "amc matador",
         "USA",
         3288,
         "1971-01-01"
        ],
        [
         "12",
         8,
         350.0,
         165,
         14.0,
         "chevrolet impala",
         "USA",
         4209,
         "1971-01-01"
        ],
        [
         "11.5",
         8,
         400.0,
         175,
         14.0,
         "pontiac catalina brougham",
         "USA",
         4464,
         "1971-01-01"
        ],
        [
         "13.5",
         8,
         351.0,
         153,
         14.0,
         "ford galaxie 500",
         "USA",
         4154,
         "1971-01-01"
        ],
        [
         "13",
         8,
         318.0,
         150,
         14.0,
         "plymouth fury iii",
         "USA",
         4096,
         "1971-01-01"
        ],
        [
         "11.5",
         8,
         383.0,
         180,
         12.0,
         "dodge monaco (sw)",
         "USA",
         4955,
         "1971-01-01"
        ],
        [
         "12",
         8,
         400.0,
         170,
         13.0,
         "ford country squire (sw)",
         "USA",
         4746,
         "1971-01-01"
        ],
        [
         "12",
         8,
         400.0,
         175,
         13.0,
         "pontiac safari (sw)",
         "USA",
         5140,
         "1971-01-01"
        ],
        [
         "13.5",
         6,
         258.0,
         110,
         18.0,
         "amc hornet sportabout (sw)",
         "USA",
         2962,
         "1971-01-01"
        ],
        [
         "19",
         4,
         140.0,
         72,
         22.0,
         "chevrolet vega (sw)",
         "USA",
         2408,
         "1971-01-01"
        ],
        [
         "15",
         6,
         250.0,
         100,
         19.0,
         "pontiac firebird",
         "USA",
         3282,
         "1971-01-01"
        ],
        [
         "14.5",
         6,
         250.0,
         88,
         18.0,
         "ford mustang",
         "USA",
         3139,
         "1971-01-01"
        ],
        [
         "14",
         4,
         122.0,
         86,
         23.0,
         "mercury capri 2000",
         "USA",
         2220,
         "1971-01-01"
        ],
        [
         "14",
         4,
         116.0,
         90,
         28.0,
         "opel 1900",
         "Europe",
         2123,
         "1971-01-01"
        ],
        [
         "19.5",
         4,
         79.0,
         70,
         30.0,
         "peugeot 304",
         "Europe",
         2074,
         "1971-01-01"
        ],
        [
         "14.5",
         4,
         88.0,
         76,
         30.0,
         "fiat 124b",
         "Europe",
         2065,
         "1971-01-01"
        ],
        [
         "19",
         4,
         71.0,
         65,
         31.0,
         "toyota corolla 1200",
         "Japan",
         1773,
         "1971-01-01"
        ],
        [
         "18",
         4,
         72.0,
         69,
         35.0,
         "datsun 1200",
         "Japan",
         1613,
         "1971-01-01"
        ],
        [
         "19",
         4,
         97.0,
         60,
         27.0,
         "volkswagen model 111",
         "Europe",
         1834,
         "1971-01-01"
        ],
        [
         "20.5",
         4,
         91.0,
         70,
         26.0,
         "plymouth cricket",
         "USA",
         1955,
         "1971-01-01"
        ],
        [
         "15,5",
         4,
         113.0,
         95,
         24.0,
         "toyota corona hardtop",
         "Japan",
         2278,
         "1972-01-01"
        ],
        [
         "17",
         4,
         97.5,
         80,
         25.0,
         "dodge colt hardtop",
         "USA",
         2126,
         "1972-01-01"
        ],
        [
         "23.5",
         4,
         97.0,
         54,
         23.0,
         "volkswagen type 3",
         "Europe",
         2254,
         "1972-01-01"
        ],
        [
         "19.5",
         4,
         140.0,
         90,
         20.0,
         "chevrolet vega",
         "USA",
         2408,
         "1972-01-01"
        ],
        [
         "16.5",
         4,
         122.0,
         86,
         21.0,
         "ford pinto runabout",
         "USA",
         2226,
         "1972-01-01"
        ],
        [
         "12",
         8,
         350.0,
         165,
         13.0,
         "chevrolet impala",
         "USA",
         4274,
         "1972-01-01"
        ],
        [
         "12",
         8,
         400.0,
         175,
         14.0,
         "pontiac catalina",
         "USA",
         4385,
         "1972-01-01"
        ],
        [
         "13.5",
         8,
         318.0,
         150,
         15.0,
         "plymouth fury iii",
         "USA",
         4135,
         "1972-01-01"
        ],
        [
         "13",
         8,
         351.0,
         153,
         14.0,
         "ford galaxie 500",
         "USA",
         4129,
         "1972-01-01"
        ],
        [
         "11.5",
         8,
         304.0,
         150,
         17.0,
         "amc ambassador sst",
         "USA",
         3672,
         "1972-01-01"
        ],
        [
         "11",
         8,
         429.0,
         208,
         11.0,
         "mercury marquis",
         "USA",
         4633,
         "1972-01-01"
        ],
        [
         "13.5",
         8,
         350.0,
         155,
         13.0,
         "buick lesabre custom",
         "USA",
         4502,
         "1972-01-01"
        ],
        [
         "13.5",
         8,
         350.0,
         160,
         12.0,
         "oldsmobile delta 88 royale",
         "USA",
         4456,
         "1972-01-01"
        ],
        [
         "12.5",
         8,
         400.0,
         190,
         13.0,
         "chrysler newport royal",
         "USA",
         4422,
         "1972-01-01"
        ],
        [
         "13.5",
         3,
         70.0,
         97,
         19.0,
         "mazda rx2 coupe",
         "Japan",
         2330,
         "1972-01-01"
        ],
        [
         "12.5",
         8,
         304.0,
         150,
         15.0,
         "amc matador (sw)",
         "USA",
         3892,
         "1972-01-01"
        ],
        [
         "14",
         8,
         307.0,
         130,
         13.0,
         "chevrolet chevelle concours (sw)",
         "USA",
         4098,
         "1972-01-01"
        ],
        [
         "16",
         8,
         302.0,
         140,
         13.0,
         "ford gran torino (sw)",
         "USA",
         4294,
         "1972-01-01"
        ],
        [
         "14",
         8,
         318.0,
         150,
         14.0,
         "plymouth satellite custom (sw)",
         "USA",
         4077,
         "1972-01-01"
        ],
        [
         "14.5",
         4,
         121.0,
         112,
         18.0,
         "volvo 145e (sw)",
         "Europe",
         2933,
         "1972-01-01"
        ],
        [
         "18",
         4,
         121.0,
         76,
         22.0,
         "volkswagen 411 (sw)",
         "Europe",
         2511,
         "1972-01-01"
        ],
        [
         "19.5",
         4,
         120.0,
         87,
         21.0,
         "peugeot 504 (sw)",
         "Europe",
         2979,
         "1972-01-01"
        ],
        [
         "18",
         4,
         96.0,
         69,
         26.0,
         "renault 12 (sw)",
         "Europe",
         2189,
         "1972-01-01"
        ],
        [
         "16",
         4,
         122.0,
         86,
         22.0,
         "ford pinto (sw)",
         "USA",
         2395,
         "1972-01-01"
        ],
        [
         "17",
         4,
         97.0,
         92,
         28.0,
         "datsun 510 (sw)",
         "Japan",
         2288,
         "1972-01-01"
        ],
        [
         "14.5",
         4,
         120.0,
         97,
         23.0,
         "toyouta corona mark ii (sw)",
         "Japan",
         2506,
         "1972-01-01"
        ],
        [
         "15",
         4,
         98.0,
         80,
         28.0,
         "dodge colt (sw)",
         "USA",
         2164,
         "1972-01-01"
        ],
        [
         "16.5",
         4,
         97.0,
         88,
         27.0,
         "toyota corolla 1600 (sw)",
         "Japan",
         2100,
         "1972-01-01"
        ],
        [
         "13",
         8,
         350.0,
         175,
         13.0,
         "buick century 350",
         "USA",
         4100,
         "1973-01-01"
        ],
        [
         "11.5",
         8,
         304.0,
         150,
         14.0,
         "amc matador",
         "USA",
         3672,
         "1973-01-01"
        ],
        [
         "13",
         8,
         350.0,
         145,
         13.0,
         "chevrolet malibu",
         "USA",
         3988,
         "1973-01-01"
        ],
        [
         "14.5",
         8,
         302.0,
         137,
         14.0,
         "ford gran torino",
         "USA",
         4042,
         "1973-01-01"
        ],
        [
         "12.5",
         8,
         318.0,
         150,
         15.0,
         "dodge coronet custom",
         "USA",
         3777,
         "1973-01-01"
        ],
        [
         "11.5",
         8,
         429.0,
         198,
         12.0,
         "mercury marquis brougham",
         "USA",
         4952,
         "1973-01-01"
        ],
        [
         "12",
         8,
         400.0,
         150,
         13.0,
         "chevrolet caprice classic",
         "USA",
         4464,
         "1973-01-01"
        ],
        [
         "13",
         8,
         351.0,
         158,
         13.0,
         "ford ltd",
         "USA",
         4363,
         "1973-01-01"
        ],
        [
         "14.5",
         8,
         318.0,
         150,
         14.0,
         "plymouth fury gran sedan",
         "USA",
         4237,
         "1973-01-01"
        ],
        [
         "11",
         8,
         440.0,
         215,
         13.0,
         "chrysler new yorker brougham",
         "USA",
         4735,
         "1973-01-01"
        ],
        [
         "11",
         8,
         455.0,
         225,
         12.0,
         "buick electra 225 custom",
         "USA",
         4951,
         "1973-01-01"
        ],
        [
         "11",
         8,
         360.0,
         175,
         13.0,
         "amc ambassador brougham",
         "USA",
         3821,
         "1973-01-01"
        ],
        [
         "16.5",
         6,
         225.0,
         105,
         18.0,
         "plymouth valiant",
         "USA",
         3121,
         "1973-01-01"
        ],
        [
         "18",
         6,
         250.0,
         100,
         16.0,
         "chevrolet nova custom",
         "USA",
         3278,
         "1973-01-01"
        ],
        [
         "16",
         6,
         232.0,
         100,
         18.0,
         "amc hornet",
         "USA",
         2945,
         "1973-01-01"
        ],
        [
         "16.5",
         6,
         250.0,
         88,
         18.0,
         "ford maverick",
         "USA",
         3021,
         "1973-01-01"
        ],
        [
         "16",
         6,
         198.0,
         95,
         23.0,
         "plymouth duster",
         "USA",
         2904,
         "1973-01-01"
        ],
        [
         "21",
         4,
         97.0,
         46,
         26.0,
         "volkswagen super beetle",
         "Europe",
         1950,
         "1973-01-01"
        ],
        [
         "14",
         8,
         400.0,
         150,
         11.0,
         "chevrolet impala",
         "USA",
         4997,
         "1973-01-01"
        ],
        [
         "12.5",
         8,
         400.0,
         167,
         12.0,
         "ford country",
         "USA",
         4906,
         "1973-01-01"
        ],
        [
         "13",
         8,
         360.0,
         170,
         13.0,
         "plymouth custom suburb",
         "USA",
         4654,
         "1973-01-01"
        ],
        [
         "12.5",
         8,
         350.0,
         180,
         12.0,
         "oldsmobile vista cruiser",
         "USA",
         4499,
         "1973-01-01"
        ],
        [
         "15",
         6,
         232.0,
         100,
         18.0,
         "amc gremlin",
         "USA",
         2789,
         "1973-01-01"
        ],
        [
         "19",
         4,
         97.0,
         88,
         20.0,
         "toyota carina",
         "Japan",
         2279,
         "1973-01-01"
        ],
        [
         "19.5",
         4,
         140.0,
         72,
         21.0,
         "chevrolet vega",
         "USA",
         2401,
         "1973-01-01"
        ],
        [
         "16.5",
         4,
         108.0,
         94,
         22.0,
         "datsun 610",
         "Japan",
         2379,
         "1973-01-01"
        ],
        [
         "13.5",
         3,
         70.0,
         90,
         18.0,
         "maxda rx3",
         "Japan",
         2124,
         "1973-01-01"
        ],
        [
         "18.5",
         4,
         122.0,
         85,
         19.0,
         "ford pinto",
         "USA",
         2310,
         "1973-01-01"
        ],
        [
         "14",
         6,
         155.0,
         107,
         21.0,
         "mercury capri v6",
         "USA",
         2472,
         "1973-01-01"
        ],
        [
         "15.5",
         4,
         98.0,
         90,
         26.0,
         "fiat 124 sport coupe",
         "Europe",
         2265,
         "1973-01-01"
        ],
        [
         "13",
         8,
         350.0,
         145,
         15.0,
         "chevrolet monte carlo s",
         "USA",
         4082,
         "1973-01-01"
        ],
        [
         "9.5",
         8,
         400.0,
         230,
         16.0,
         "pontiac grand prix",
         "USA",
         4278,
         "1973-01-01"
        ],
        [
         "19.5",
         4,
         68.0,
         49,
         29.0,
         "fiat 128",
         "Europe",
         1867,
         "1973-01-01"
        ],
        [
         "15.5",
         4,
         116.0,
         75,
         24.0,
         "opel manta",
         "Europe",
         2158,
         "1973-01-01"
        ],
        [
         "14",
         4,
         114.0,
         91,
         20.0,
         "audi 100ls",
         "Europe",
         2582,
         "1973-01-01"
        ],
        [
         "15.5",
         4,
         121.0,
         112,
         19.0,
         "volvo 144ea",
         "Europe",
         2868,
         "1973-01-01"
        ],
        [
         "11",
         8,
         318.0,
         150,
         15.0,
         "dodge dart custom",
         "USA",
         3399,
         "1973-01-01"
        ],
        [
         "14",
         4,
         121.0,
         110,
         24.0,
         "saab 99le",
         "Europe",
         2660,
         "1973-01-01"
        ],
        [
         "13.5",
         6,
         156.0,
         122,
         20.0,
         "toyota mark ii",
         "Japan",
         2807,
         "1973-01-01"
        ],
        [
         "11",
         8,
         350.0,
         180,
         11.0,
         "oldsmobile omega",
         "USA",
         3664,
         "1973-01-01"
        ],
        [
         "16.5",
         6,
         198.0,
         95,
         20.0,
         "plymouth duster",
         "USA",
         3102,
         "1974-01-01"
        ],
        [
         "17",
         6,
         200.0,
         null,
         21.0,
         "ford maverick",
         "USA",
         2875,
         "1974-01-01"
        ],
        [
         "16",
         6,
         232.0,
         100,
         19.0,
         "amc hornet",
         "USA",
         2901,
         "1974-01-01"
        ],
        [
         "17",
         6,
         250.0,
         100,
         15.0,
         "chevrolet nova",
         "USA",
         3336,
         "1974-01-01"
        ],
        [
         "19",
         4,
         79.0,
         67,
         31.0,
         "datsun b210",
         "Japan",
         1950,
         "1974-01-01"
        ],
        [
         "16.5",
         4,
         122.0,
         80,
         26.0,
         "ford pinto",
         "USA",
         2451,
         "1974-01-01"
        ],
        [
         "21",
         4,
         71.0,
         65,
         32.0,
         "toyota corolla 1200",
         "Japan",
         1836,
         "1974-01-01"
        ],
        [
         "17",
         4,
         140.0,
         75,
         25.0,
         "chevrolet vega",
         "USA",
         2542,
         "1974-01-01"
        ],
        [
         "17",
         6,
         250.0,
         100,
         16.0,
         "chevrolet chevelle malibu classic",
         "USA",
         3781,
         "1974-01-01"
        ],
        [
         "18",
         6,
         258.0,
         110,
         16.0,
         "amc matador",
         "USA",
         3632,
         "1974-01-01"
        ],
        [
         "16.5",
         6,
         225.0,
         105,
         18.0,
         "plymouth satellite sebring",
         "USA",
         3613,
         "1974-01-01"
        ],
        [
         "14",
         8,
         302.0,
         140,
         16.0,
         "ford gran torino",
         "USA",
         4141,
         "1974-01-01"
        ],
        [
         "14.5",
         8,
         350.0,
         150,
         13.0,
         "buick century luxus (sw)",
         "USA",
         4699,
         "1974-01-01"
        ],
        [
         "13.5",
         8,
         318.0,
         150,
         14.0,
         "dodge coronet custom (sw)",
         "USA",
         4457,
         "1974-01-01"
        ],
        [
         "16",
         8,
         302.0,
         140,
         14.0,
         "ford gran torino (sw)",
         "USA",
         4638,
         "1974-01-01"
        ],
        [
         "15.5",
         8,
         304.0,
         150,
         14.0,
         "amc matador (sw)",
         "USA",
         4257,
         "1974-01-01"
        ],
        [
         "16.5",
         4,
         98.0,
         83,
         29.0,
         "audi fox",
         "Europe",
         2219,
         "1974-01-01"
        ],
        [
         "15.5",
         4,
         79.0,
         67,
         26.0,
         "volkswagen dasher",
         "Europe",
         1963,
         "1974-01-01"
        ],
        [
         "14.5",
         4,
         97.0,
         78,
         26.0,
         "opel manta",
         "Europe",
         2300,
         "1974-01-01"
        ],
        [
         "16.5",
         4,
         76.0,
         52,
         31.0,
         "toyota corona",
         "Japan",
         1649,
         "1974-01-01"
        ],
        [
         "19",
         4,
         83.0,
         61,
         32.0,
         "datsun 710",
         "Japan",
         2003,
         "1974-01-01"
        ],
        [
         "14.5",
         4,
         90.0,
         75,
         28.0,
         "dodge colt",
         "USA",
         2125,
         "1974-01-01"
        ],
        [
         "15.5",
         4,
         90.0,
         75,
         24.0,
         "fiat 128",
         "Europe",
         2108,
         "1974-01-01"
        ],
        [
         "14",
         4,
         116.0,
         75,
         26.0,
         "fiat 124 tc",
         "Europe",
         2246,
         "1974-01-01"
        ],
        [
         "15",
         4,
         120.0,
         97,
         24.0,
         "honda civic",
         "Japan",
         2489,
         "1974-01-01"
        ],
        [
         "15.5",
         4,
         108.0,
         93,
         26.0,
         "subaru",
         "Japan",
         2391,
         "1974-01-01"
        ],
        [
         "16",
         4,
         79.0,
         67,
         31.0,
         "fiat x1.9",
         "Europe",
         2000,
         "1974-01-01"
        ],
        [
         "16",
         6,
         225.0,
         95,
         19.0,
         "plymouth valiant custom",
         "USA",
         3264,
         "1975-01-01"
        ],
        [
         "16",
         6,
         250.0,
         105,
         18.0,
         "chevrolet nova",
         "USA",
         3459,
         "1975-01-01"
        ],
        [
         "21",
         6,
         250.0,
         72,
         15.0,
         "mercury monarch",
         "USA",
         3432,
         "1975-01-01"
        ],
        [
         "19.5",
         6,
         250.0,
         72,
         15.0,
         "ford maverick",
         "USA",
         3158,
         "1975-01-01"
        ],
        [
         "11.5",
         8,
         400.0,
         170,
         16.0,
         "pontiac catalina",
         "USA",
         4668,
         "1975-01-01"
        ],
        [
         "14",
         8,
         350.0,
         145,
         15.0,
         "chevrolet bel air",
         "USA",
         4440,
         "1975-01-01"
        ],
        [
         "14.5",
         8,
         318.0,
         150,
         16.0,
         "plymouth grand fury",
         "USA",
         4498,
         "1975-01-01"
        ],
        [
         "13.5",
         8,
         351.0,
         148,
         14.0,
         "ford ltd",
         "USA",
         4657,
         "1975-01-01"
        ],
        [
         "21",
         6,
         231.0,
         110,
         17.0,
         "buick century",
         "USA",
         3907,
         "1975-01-01"
        ],
        [
         "18.5",
         6,
         250.0,
         105,
         16.0,
         "chevroelt chevelle malibu",
         "USA",
         3897,
         "1975-01-01"
        ],
        [
         "19",
         6,
         258.0,
         110,
         15.0,
         "amc matador",
         "USA",
         3730,
         "1975-01-01"
        ],
        [
         "19",
         6,
         225.0,
         95,
         18.0,
         "plymouth fury",
         "USA",
         3785,
         "1975-01-01"
        ],
        [
         "15",
         6,
         231.0,
         110,
         21.0,
         "buick skyhawk",
         "USA",
         3039,
         "1975-01-01"
        ],
        [
         "13.5",
         8,
         262.0,
         110,
         20.0,
         "chevrolet monza 2+2",
         "USA",
         3221,
         "1975-01-01"
        ],
        [
         "12",
         8,
         302.0,
         129,
         13.0,
         "ford mustang ii",
         "USA",
         3169,
         "1975-01-01"
        ],
        [
         "16",
         4,
         97.0,
         75,
         29.0,
         "toyota corolla",
         "Japan",
         2171,
         "1975-01-01"
        ],
        [
         "17",
         4,
         140.0,
         83,
         23.0,
         "ford pinto",
         "USA",
         2639,
         "1975-01-01"
        ],
        [
         "16",
         6,
         232.0,
         100,
         20.0,
         "amc gremlin",
         "USA",
         2914,
         "1975-01-01"
        ],
        [
         "18.5",
         4,
         140.0,
         78,
         23.0,
         "pontiac astro",
         "USA",
         2592,
         "1975-01-01"
        ],
        [
         "13.5",
         4,
         134.0,
         96,
         24.0,
         "toyota corona",
         "Japan",
         2702,
         "1975-01-01"
        ],
        [
         "16.5",
         4,
         90.0,
         71,
         25.0,
         "volkswagen dasher",
         "Europe",
         2223,
         "1975-01-01"
        ],
        [
         "17",
         4,
         119.0,
         97,
         24.0,
         "datsun 710",
         "Japan",
         2545,
         "1975-01-01"
        ],
        [
         "14.5",
         6,
         171.0,
         97,
         18.0,
         "ford pinto",
         "USA",
         2984,
         "1975-01-01"
        ],
        [
         "14",
         4,
         90.0,
         70,
         29.0,
         "volkswagen rabbit",
         "Europe",
         1937,
         "1975-01-01"
        ],
        [
         "17",
         6,
         232.0,
         90,
         19.0,
         "amc pacer",
         "USA",
         3211,
         "1975-01-01"
        ],
        [
         "15",
         4,
         115.0,
         95,
         23.0,
         "audi 100ls",
         "Europe",
         2694,
         "1975-01-01"
        ],
        [
         "17",
         4,
         120.0,
         88,
         23.0,
         "peugeot 504",
         "Europe",
         2957,
         "1975-01-01"
        ],
        [
         "14.5",
         4,
         121.0,
         98,
         22.0,
         "volvo 244dl",
         "Europe",
         2945,
         "1975-01-01"
        ],
        [
         "13.5",
         4,
         121.0,
         115,
         25.0,
         "saab 99le",
         "Europe",
         2671,
         "1975-01-01"
        ],
        [
         "17.5",
         4,
         91.0,
         53,
         33.0,
         "honda civic cvcc",
         "Japan",
         1795,
         "1975-01-01"
        ],
        [
         "15.5",
         4,
         107.0,
         86,
         28.0,
         "fiat 131",
         "Europe",
         2464,
         "1976-01-01"
        ],
        [
         "16.9",
         4,
         116.0,
         81,
         25.0,
         "opel 1900",
         "Europe",
         2220,
         "1976-01-01"
        ],
        [
         "14.9",
         4,
         140.0,
         92,
         25.0,
         "capri ii",
         "USA",
         2572,
         "1976-01-01"
        ],
        [
         "17.7",
         4,
         98.0,
         79,
         26.0,
         "dodge colt",
         "USA",
         2255,
         "1976-01-01"
        ],
        [
         "15.3",
         4,
         101.0,
         83,
         27.0,
         "renault 12tl",
         "Europe",
         2202,
         "1976-01-01"
        ],
        [
         "13",
         8,
         305.0,
         140,
         17.5,
         "chevrolet chevelle malibu classic",
         "USA",
         4215,
         "1976-01-01"
        ],
        [
         "13",
         8,
         318.0,
         150,
         16.0,
         "dodge coronet brougham",
         "USA",
         4190,
         "1976-01-01"
        ],
        [
         "13.9",
         8,
         304.0,
         120,
         15.5,
         "amc matador",
         "USA",
         3962,
         "1976-01-01"
        ],
        [
         "12.8",
         8,
         351.0,
         152,
         14.5,
         "ford gran torino",
         "USA",
         4215,
         "1976-01-01"
        ],
        [
         "15.4",
         6,
         225.0,
         100,
         22.0,
         "plymouth valiant",
         "USA",
         3233,
         "1976-01-01"
        ],
        [
         "14.5",
         6,
         250.0,
         105,
         22.0,
         "chevrolet nova",
         "USA",
         3353,
         "1976-01-01"
        ],
        [
         "17.6",
         6,
         200.0,
         81,
         24.0,
         "ford maverick",
         "USA",
         3012,
         "1976-01-01"
        ],
        [
         "17.6",
         6,
         232.0,
         90,
         22.5,
         "amc hornet",
         "USA",
         3085,
         "1976-01-01"
        ],
        [
         "22.2",
         4,
         85.0,
         52,
         29.0,
         "chevrolet chevette",
         "USA",
         2035,
         "1976-01-01"
        ],
        [
         "22.1",
         4,
         98.0,
         60,
         24.5,
         "chevrolet woody",
         "USA",
         2164,
         "1976-01-01"
        ],
        [
         "14.2",
         4,
         90.0,
         70,
         29.0,
         "vw rabbit",
         "Europe",
         1937,
         "1976-01-01"
        ],
        [
         "17.4",
         4,
         91.0,
         53,
         33.0,
         "honda civic",
         "Japan",
         1795,
         "1976-01-01"
        ],
        [
         "17.7",
         6,
         225.0,
         100,
         20.0,
         "dodge aspen se",
         "USA",
         3651,
         "1976-01-01"
        ],
        [
         "21",
         6,
         250.0,
         78,
         18.0,
         "ford granada ghia",
         "USA",
         3574,
         "1976-01-01"
        ],
        [
         "16.2",
         6,
         250.0,
         110,
         18.5,
         "pontiac ventura sj",
         "USA",
         3645,
         "1976-01-01"
        ],
        [
         "17.8",
         6,
         258.0,
         95,
         17.5,
         "amc pacer d/l",
         "USA",
         3193,
         "1976-01-01"
        ],
        [
         "12.2",
         4,
         97.0,
         71,
         29.5,
         "volkswagen rabbit",
         "Europe",
         1825,
         "1976-01-01"
        ],
        [
         "17",
         4,
         85.0,
         70,
         32.0,
         "datsun b-210",
         "Japan",
         1990,
         "1976-01-01"
        ],
        [
         "16.4",
         4,
         97.0,
         75,
         28.0,
         "toyota corolla",
         "Japan",
         2155,
         "1976-01-01"
        ],
        [
         "13.6",
         4,
         140.0,
         72,
         26.5,
         "ford pinto",
         "USA",
         2565,
         "1976-01-01"
        ],
        [
         "15.7",
         4,
         130.0,
         102,
         20.0,
         "volvo 245",
         "Europe",
         3150,
         "1976-01-01"
        ],
        [
         "13.2",
         8,
         318.0,
         150,
         13.0,
         "plymouth volare premier v8",
         "USA",
         3940,
         "1976-01-01"
        ],
        [
         "21.9",
         4,
         120.0,
         88,
         19.0,
         "peugeot 504",
         "Europe",
         3270,
         "1976-01-01"
        ],
        [
         "15.5",
         6,
         156.0,
         108,
         19.0,
         "toyota mark ii",
         "Japan",
         2930,
         "1976-01-01"
        ],
        [
         "16.7",
         6,
         168.0,
         120,
         16.5,
         "mercedes-benz 280s",
         "Europe",
         3820,
         "1976-01-01"
        ],
        [
         "12.1",
         8,
         350.0,
         180,
         16.5,
         "cadillac seville",
         "USA",
         4380,
         "1976-01-01"
        ],
        [
         "12",
         8,
         350.0,
         145,
         13.0,
         "chevy c10",
         "USA",
         4055,
         "1976-01-01"
        ],
        [
         "15",
         8,
         302.0,
         130,
         13.0,
         "ford f108",
         "USA",
         3870,
         "1976-01-01"
        ],
        [
         "14",
         8,
         318.0,
         150,
         13.0,
         "dodge d100",
         "USA",
         3755,
         "1976-01-01"
        ],
        [
         "18.5",
         4,
         98.0,
         68,
         31.5,
         "honda Accelerationord cvcc",
         "Japan",
         2045,
         "1977-01-01"
        ],
        [
         "14.8",
         4,
         111.0,
         80,
         30.0,
         "buick opel isuzu deluxe",
         "USA",
         2155,
         "1977-01-01"
        ],
        [
         "18.6",
         4,
         79.0,
         58,
         36.0,
         "renault 5 gtl",
         "Europe",
         1825,
         "1977-01-01"
        ],
        [
         "15.5",
         4,
         122.0,
         96,
         25.5,
         "plymouth arrow gs",
         "USA",
         2300,
         "1977-01-01"
        ],
        [
         "16.8",
         4,
         85.0,
         70,
         33.5,
         "datsun f-10 hatchback",
         "Japan",
         1945,
         "1977-01-01"
        ],
        [
         "12.5",
         8,
         305.0,
         145,
         17.5,
         "chevrolet caprice classic",
         "USA",
         3880,
         "1977-01-01"
        ],
        [
         "19",
         8,
         260.0,
         110,
         17.0,
         "oldsmobile cutlass supreme",
         "USA",
         4060,
         "1977-01-01"
        ],
        [
         "13.7",
         8,
         318.0,
         145,
         15.5,
         "dodge monaco brougham",
         "USA",
         4140,
         "1977-01-01"
        ],
        [
         "14.9",
         8,
         302.0,
         130,
         15.0,
         "mercury cougar brougham",
         "USA",
         4295,
         "1977-01-01"
        ],
        [
         "16.4",
         6,
         250.0,
         110,
         17.5,
         "chevrolet concours",
         "USA",
         3520,
         "1977-01-01"
        ],
        [
         "16.9",
         6,
         231.0,
         105,
         20.5,
         "buick skylark",
         "USA",
         3425,
         "1977-01-01"
        ],
        [
         "17.7",
         6,
         225.0,
         100,
         19.0,
         "plymouth volare custom",
         "USA",
         3630,
         "1977-01-01"
        ],
        [
         "19",
         6,
         250.0,
         98,
         18.5,
         "ford granada",
         "USA",
         3525,
         "1977-01-01"
        ],
        [
         "11.1",
         8,
         400.0,
         180,
         16.0,
         "pontiac grand prix lj",
         "USA",
         4220,
         "1977-01-01"
        ],
        [
         "11.4",
         8,
         350.0,
         170,
         15.5,
         "chevrolet monte carlo landau",
         "USA",
         4165,
         "1977-01-01"
        ],
        [
         "12.2",
         8,
         400.0,
         190,
         15.5,
         "chrysler cordoba",
         "USA",
         4325,
         "1977-01-01"
        ],
        [
         "14.5",
         8,
         351.0,
         149,
         16.0,
         "ford thunderbird",
         "USA",
         4335,
         "1977-01-01"
        ],
        [
         "14.5",
         4,
         97.0,
         78,
         29.0,
         "volkswagen rabbit custom",
         "Europe",
         1940,
         "1977-01-01"
        ],
        [
         "16",
         4,
         151.0,
         88,
         24.5,
         "pontiac sunbird coupe",
         "USA",
         2740,
         "1977-01-01"
        ],
        [
         "18.2",
         4,
         97.0,
         75,
         26.0,
         "toyota corolla liftback",
         "Japan",
         2265,
         "1977-01-01"
        ],
        [
         "15.8",
         4,
         140.0,
         89,
         25.5,
         "ford mustang ii 2+2",
         "USA",
         2755,
         "1977-01-01"
        ],
        [
         "17",
         4,
         98.0,
         63,
         30.5,
         "chevrolet chevette",
         "USA",
         2051,
         "1977-01-01"
        ],
        [
         "15.9",
         4,
         98.0,
         83,
         33.5,
         "dodge colt m/m",
         "USA",
         2075,
         "1977-01-01"
        ],
        [
         "16.4",
         4,
         97.0,
         67,
         30.0,
         "subaru dl",
         "Japan",
         1985,
         "1977-01-01"
        ],
        [
         "14.1",
         4,
         97.0,
         78,
         30.5,
         "volkswagen dasher",
         "Europe",
         2190,
         "1977-01-01"
        ],
        [
         "14.5",
         6,
         146.0,
         97,
         22.0,
         "datsun 810",
         "Japan",
         2815,
         "1977-01-01"
        ],
        [
         "12.8",
         4,
         121.0,
         110,
         21.5,
         "bmw 320i",
         "Europe",
         2600,
         "1977-01-01"
        ],
        [
         "13.5",
         3,
         80.0,
         110,
         21.5,
         "mazda rx-4",
         "Japan",
         2720,
         "1977-01-01"
        ],
        [
         "21.5",
         4,
         90.0,
         48,
         43.1,
         "volkswagen rabbit custom diesel",
         "Europe",
         1985,
         "1978-01-01"
        ],
        [
         "14.4",
         4,
         98.0,
         66,
         36.1,
         "ford fiesta",
         "USA",
         1800,
         "1978-01-01"
        ],
        [
         "19.4",
         4,
         78.0,
         52,
         32.8,
         "mazda glc deluxe",
         "Japan",
         1985,
         "1978-01-01"
        ],
        [
         "18.6",
         4,
         85.0,
         70,
         39.4,
         "datsun b210 gx",
         "Japan",
         2070,
         "1978-01-01"
        ],
        [
         "16.4",
         4,
         91.0,
         60,
         36.1,
         "honda civic cvcc",
         "Japan",
         1800,
         "1978-01-01"
        ],
        [
         "15.5",
         8,
         260.0,
         110,
         19.9,
         "oldsmobile cutlass salon brougham",
         "USA",
         3365,
         "1978-01-01"
        ],
        [
         "13.2",
         8,
         318.0,
         140,
         19.4,
         "dodge diplomat",
         "USA",
         3735,
         "1978-01-01"
        ],
        [
         "12.8",
         8,
         302.0,
         139,
         20.2,
         "mercury monarch ghia",
         "USA",
         3570,
         "1978-01-01"
        ],
        [
         "19.2",
         6,
         231.0,
         105,
         19.2,
         "pontiac phoenix lj",
         "USA",
         3535,
         "1978-01-01"
        ],
        [
         "18.2",
         6,
         200.0,
         95,
         20.5,
         "chevrolet malibu",
         "USA",
         3155,
         "1978-01-01"
        ],
        [
         "15.8",
         6,
         200.0,
         85,
         20.2,
         "ford fairmont (auto)",
         "USA",
         2965,
         "1978-01-01"
        ],
        [
         "15.4",
         4,
         140.0,
         88,
         25.1,
         "ford fairmont (man)",
         "USA",
         2720,
         "1978-01-01"
        ],
        [
         "17.2",
         6,
         225.0,
         100,
         20.5,
         "plymouth volare",
         "USA",
         3430,
         "1978-01-01"
        ],
        [
         "17.2",
         6,
         232.0,
         90,
         19.4,
         "amc concord",
         "USA",
         3210,
         "1978-01-01"
        ],
        [
         "15.8",
         6,
         231.0,
         105,
         20.6,
         "buick century special",
         "USA",
         3380,
         "1978-01-01"
        ],
        [
         "16.7",
         6,
         200.0,
         85,
         20.8,
         "mercury zephyr",
         "USA",
         3070,
         "1978-01-01"
        ],
        [
         "18.7",
         6,
         225.0,
         110,
         18.6,
         "dodge aspen",
         "USA",
         3620,
         "1978-01-01"
        ],
        [
         "15.1",
         6,
         258.0,
         120,
         18.1,
         "amc concord d/l",
         "USA",
         3410,
         "1978-01-01"
        ],
        [
         "13.2",
         8,
         305.0,
         145,
         19.2,
         "chevrolet monte carlo landau",
         "USA",
         3425,
         "1978-01-01"
        ],
        [
         "13.4",
         6,
         231.0,
         165,
         17.7,
         "buick regal sport coupe (turbo)",
         "USA",
         3445,
         "1978-01-01"
        ],
        [
         "11.2",
         8,
         302.0,
         139,
         18.1,
         "ford futura",
         "USA",
         3205,
         "1978-01-01"
        ],
        [
         "13.7",
         8,
         318.0,
         140,
         17.5,
         "dodge magnum xe",
         "USA",
         4080,
         "1978-01-01"
        ],
        [
         "16.5",
         4,
         98.0,
         68,
         30.0,
         "chevrolet chevette",
         "USA",
         2155,
         "1978-01-01"
        ],
        [
         "14.2",
         4,
         134.0,
         95,
         27.5,
         "toyota corona",
         "Japan",
         2560,
         "1978-01-01"
        ],
        [
         "14.7",
         4,
         119.0,
         97,
         27.2,
         "datsun 510",
         "Japan",
         2300,
         "1978-01-01"
        ],
        [
         "14.5",
         4,
         105.0,
         75,
         30.9,
         "dodge omni",
         "USA",
         2230,
         "1978-01-01"
        ],
        [
         "14.8",
         4,
         134.0,
         95,
         21.1,
         "toyota celica gt liftback",
         "Japan",
         2515,
         "1978-01-01"
        ],
        [
         "16.7",
         4,
         156.0,
         105,
         23.2,
         "plymouth sapporo",
         "USA",
         2745,
         "1978-01-01"
        ],
        [
         "17.6",
         4,
         151.0,
         85,
         23.8,
         "oldsmobile starfire sx",
         "USA",
         2855,
         "1978-01-01"
        ],
        [
         "14.9",
         4,
         119.0,
         97,
         23.9,
         "datsun 200-sx",
         "Japan",
         2405,
         "1978-01-01"
        ],
        [
         "15.9",
         5,
         131.0,
         103,
         20.3,
         "audi 5000",
         "Europe",
         2830,
         "1978-01-01"
        ],
        [
         "13.6",
         6,
         163.0,
         125,
         17.0,
         "volvo 264gl",
         "Europe",
         3140,
         "1978-01-01"
        ],
        [
         "15.7",
         4,
         121.0,
         115,
         21.6,
         "saab 99gle",
         "Europe",
         2795,
         "1978-01-01"
        ],
        [
         "15.8",
         6,
         163.0,
         133,
         16.2,
         "peugeot 604sl",
         "Europe",
         3410,
         "1978-01-01"
        ],
        [
         "14.9",
         4,
         89.0,
         71,
         31.5,
         "volkswagen scirocco",
         "Europe",
         1990,
         "1978-01-01"
        ],
        [
         "16.6",
         4,
         98.0,
         68,
         29.5,
         "honda Accelerationord lx",
         "Japan",
         2135,
         "1978-01-01"
        ],
        [
         "15.4",
         6,
         231.0,
         115,
         21.5,
         "pontiac lemans v6",
         "USA",
         3245,
         "1979-01-01"
        ],
        [
         "18.2",
         6,
         200.0,
         85,
         19.8,
         "mercury zephyr 6",
         "USA",
         2990,
         "1979-01-01"
        ],
        [
         "17.3",
         4,
         140.0,
         88,
         22.3,
         "ford fairmont 4",
         "USA",
         2890,
         "1979-01-01"
        ],
        [
         "18.2",
         6,
         232.0,
         90,
         20.2,
         "amc concord dl 6",
         "USA",
         3265,
         "1979-01-01"
        ],
        [
         "16.6",
         6,
         225.0,
         110,
         20.6,
         "dodge aspen 6",
         "USA",
         3360,
         "1979-01-01"
        ],
        [
         "15.4",
         8,
         305.0,
         130,
         17.0,
         "chevrolet caprice classic",
         "USA",
         3840,
         "1979-01-01"
        ],
        [
         "13.4",
         8,
         302.0,
         129,
         17.6,
         "ford ltd landau",
         "USA",
         3725,
         "1979-01-01"
        ],
        [
         "13.2",
         8,
         351.0,
         138,
         16.5,
         "mercury grand marquis",
         "USA",
         3955,
         "1979-01-01"
        ],
        [
         "15.2",
         8,
         318.0,
         135,
         18.2,
         "dodge st. regis",
         "USA",
         3830,
         "1979-01-01"
        ],
        [
         "14.9",
         8,
         350.0,
         155,
         16.9,
         "buick estate wagon (sw)",
         "USA",
         4360,
         "1979-01-01"
        ],
        [
         "14.3",
         8,
         351.0,
         142,
         15.5,
         "ford country squire (sw)",
         "USA",
         4054,
         "1979-01-01"
        ],
        [
         "15",
         8,
         267.0,
         125,
         19.2,
         "chevrolet malibu classic (sw)",
         "USA",
         3605,
         "1979-01-01"
        ],
        [
         "13",
         8,
         360.0,
         150,
         18.5,
         "chrysler lebaron town @ country (sw)",
         "USA",
         3940,
         "1979-01-01"
        ],
        [
         "14",
         4,
         89.0,
         71,
         31.9,
         "vw rabbit custom",
         "Europe",
         1925,
         "1979-01-01"
        ],
        [
         "15.2",
         4,
         86.0,
         65,
         34.1,
         "maxda glc deluxe",
         "Japan",
         1975,
         "1979-01-01"
        ],
        [
         "14.4",
         4,
         98.0,
         80,
         35.7,
         "dodge colt hatchback custom",
         "USA",
         1915,
         "1979-01-01"
        ],
        [
         "15",
         4,
         121.0,
         80,
         27.4,
         "amc spirit dl",
         "USA",
         2670,
         "1979-01-01"
        ],
        [
         "20.1",
         5,
         183.0,
         77,
         25.4,
         "mercedes benz 300d",
         "Europe",
         3530,
         "1979-01-01"
        ],
        [
         "17.4",
         8,
         350.0,
         125,
         23.0,
         "cadillac eldorado",
         "USA",
         3900,
         "1979-01-01"
        ],
        [
         "24.8",
         4,
         141.0,
         71,
         27.2,
         "peugeot 504",
         "Europe",
         3190,
         "1979-01-01"
        ],
        [
         "22.2",
         8,
         260.0,
         90,
         23.9,
         "oldsmobile cutlass salon brougham",
         "USA",
         3420,
         "1979-01-01"
        ],
        [
         "13.2",
         4,
         105.0,
         70,
         34.2,
         "plymouth horizon",
         "USA",
         2200,
         "1979-01-01"
        ],
        [
         "14.9",
         4,
         105.0,
         70,
         34.5,
         "plymouth horizon tc3",
         "USA",
         2150,
         "1979-01-01"
        ],
        [
         "19.2",
         4,
         85.0,
         65,
         31.8,
         "datsun 210",
         "Japan",
         2020,
         "1979-01-01"
        ],
        [
         "14.7",
         4,
         91.0,
         69,
         37.3,
         "fiat strada custom",
         "Europe",
         2130,
         "1979-01-01"
        ],
        [
         "16",
         4,
         151.0,
         90,
         28.4,
         "buick skylark limited",
         "USA",
         2670,
         "1979-01-01"
        ],
        [
         "11.3",
         6,
         173.0,
         115,
         28.8,
         "chevrolet citation",
         "USA",
         2595,
         "1979-01-01"
        ],
        [
         "12.9",
         6,
         173.0,
         115,
         26.8,
         "oldsmobile omega brougham",
         "USA",
         2700,
         "1979-01-01"
        ],
        [
         "13.2",
         4,
         151.0,
         90,
         33.5,
         "pontiac phoenix",
         "USA",
         2556,
         "1979-01-01"
        ],
        [
         "14.7",
         4,
         98.0,
         76,
         41.5,
         "vw rabbit",
         "Europe",
         2144,
         "1980-01-01"
        ],
        [
         "18.8",
         4,
         89.0,
         60,
         38.1,
         "toyota corolla tercel",
         "Japan",
         1968,
         "1980-01-01"
        ],
        [
         "15.5",
         4,
         98.0,
         70,
         32.1,
         "chevrolet chevette",
         "USA",
         2120,
         "1980-01-01"
        ],
        [
         "16.4",
         4,
         86.0,
         65,
         37.2,
         "datsun 310",
         "Japan",
         2019,
         "1980-01-01"
        ],
        [
         "16.5",
         4,
         151.0,
         90,
         28.0,
         "chevrolet citation",
         "USA",
         2678,
         "1980-01-01"
        ],
        [
         "18.1",
         4,
         140.0,
         88,
         26.4,
         "ford fairmont",
         "USA",
         2870,
         "1980-01-01"
        ],
        [
         "20.1",
         4,
         151.0,
         90,
         24.3,
         "amc concord",
         "USA",
         3003,
         "1980-01-01"
        ],
        [
         "18.7",
         6,
         225.0,
         90,
         19.1,
         "dodge aspen",
         "USA",
         3381,
         "1980-01-01"
        ],
        [
         "15.8",
         4,
         97.0,
         78,
         34.3,
         "audi 4000",
         "Europe",
         2188,
         "1980-01-01"
        ],
        [
         "15.5",
         4,
         134.0,
         90,
         29.8,
         "toyota corona liftback",
         "Japan",
         2711,
         "1980-01-01"
        ],
        [
         "17.5",
         4,
         120.0,
         75,
         31.3,
         "mazda 626",
         "Japan",
         2542,
         "1980-01-01"
        ],
        [
         "15",
         4,
         119.0,
         92,
         37.0,
         "datsun 510 hatchback",
         "Japan",
         2434,
         "1980-01-01"
        ],
        [
         "15.2",
         4,
         108.0,
         75,
         32.2,
         "toyota corolla",
         "Japan",
         2265,
         "1980-01-01"
        ],
        [
         "17.9",
         4,
         86.0,
         65,
         46.6,
         "mazda glc",
         "Japan",
         2110,
         "1980-01-01"
        ],
        [
         "14.4",
         4,
         156.0,
         105,
         27.9,
         "dodge colt",
         "USA",
         2800,
         "1980-01-01"
        ],
        [
         "19.2",
         4,
         85.0,
         65,
         40.8,
         "datsun 210",
         "Japan",
         2110,
         "1980-01-01"
        ],
        [
         "21.7",
         4,
         90.0,
         48,
         44.3,
         "vw rabbit c (diesel)",
         "Europe",
         2085,
         "1980-01-01"
        ],
        [
         "23.7",
         4,
         90.0,
         48,
         43.4,
         "vw dasher (diesel)",
         "Europe",
         2335,
         "1980-01-01"
        ],
        [
         "19.9",
         5,
         121.0,
         67,
         36.4,
         "audi 5000s (diesel)",
         "Europe",
         2950,
         "1980-01-01"
        ],
        [
         "21.8",
         4,
         146.0,
         67,
         30.0,
         "mercedes-benz 240d",
         "Europe",
         3250,
         "1980-01-01"
        ],
        [
         "13.8",
         4,
         91.0,
         67,
         44.6,
         "honda civic 1500 gl",
         "Japan",
         1850,
         "1980-01-01"
        ],
        [
         "17.3",
         4,
         85.0,
         null,
         40.9,
         "renault lecar deluxe",
         "Europe",
         1835,
         "1980-01-01"
        ],
        [
         "18",
         4,
         97.0,
         67,
         33.8,
         "subaru dl",
         "Japan",
         2145,
         "1980-01-01"
        ],
        [
         "15.3",
         4,
         89.0,
         62,
         29.8,
         "vokswagen rabbit",
         "Europe",
         1845,
         "1980-01-01"
        ],
        [
         "11.4",
         6,
         168.0,
         132,
         32.7,
         "datsun 280-zx",
         "Japan",
         2910,
         "1980-01-01"
        ],
        [
         "12.5",
         3,
         70.0,
         100,
         23.7,
         "mazda rx-7 gs",
         "Japan",
         2420,
         "1980-01-01"
        ],
        [
         "15.1",
         4,
         122.0,
         88,
         35.0,
         "triumph tr7 coupe",
         "Europe",
         2500,
         "1980-01-01"
        ],
        [
         "14.3",
         4,
         140.0,
         null,
         23.6,
         "ford mustang cobra",
         "USA",
         2905,
         "1980-01-01"
        ],
        [
         "17",
         4,
         107.0,
         72,
         32.4,
         "honda Accelerationord",
         "Japan",
         2290,
         "1980-01-01"
        ],
        [
         "15.7",
         4,
         135.0,
         84,
         27.2,
         "plymouth reliant",
         "USA",
         2490,
         "1982-01-01"
        ],
        [
         "16.4",
         4,
         151.0,
         84,
         26.6,
         "buick skylark",
         "USA",
         2635,
         "1982-01-01"
        ],
        [
         "14.4",
         4,
         156.0,
         92,
         25.8,
         "dodge aries wagon (sw)",
         "USA",
         2620,
         "1982-01-01"
        ],
        [
         "12.6",
         6,
         173.0,
         110,
         23.5,
         "chevrolet citation",
         "USA",
         2725,
         "1982-01-01"
        ],
        [
         "12.9",
         4,
         135.0,
         84,
         30.0,
         "plymouth reliant",
         "USA",
         2385,
         "1982-01-01"
        ],
        [
         "16.9",
         4,
         79.0,
         58,
         39.1,
         "toyota starlet",
         "Japan",
         1755,
         "1982-01-01"
        ],
        [
         "16.4",
         4,
         86.0,
         64,
         39.0,
         "plymouth champ",
         "USA",
         1875,
         "1982-01-01"
        ],
        [
         "16.1",
         4,
         81.0,
         60,
         35.1,
         "honda civic 1300",
         "Japan",
         1760,
         "1982-01-01"
        ],
        [
         "17.8",
         4,
         97.0,
         67,
         32.3,
         "subaru",
         "Japan",
         2065,
         "1982-01-01"
        ],
        [
         "19.4",
         4,
         85.0,
         65,
         37.0,
         "datsun 210",
         "Japan",
         1975,
         "1982-01-01"
        ],
        [
         "17.3",
         4,
         89.0,
         62,
         37.7,
         "toyota tercel",
         "Japan",
         2050,
         "1982-01-01"
        ],
        [
         "16",
         4,
         91.0,
         68,
         34.1,
         "mazda glc 4",
         "Japan",
         1985,
         "1982-01-01"
        ],
        [
         "14.9",
         4,
         105.0,
         63,
         34.7,
         "plymouth horizon 4",
         "USA",
         2215,
         "1982-01-01"
        ],
        [
         "16.2",
         4,
         98.0,
         65,
         34.4,
         "ford escort 4w",
         "USA",
         2045,
         "1982-01-01"
        ],
        [
         "20.7",
         4,
         98.0,
         65,
         29.9,
         "ford escort 2h",
         "USA",
         2380,
         "1982-01-01"
        ],
        [
         "14.2",
         4,
         105.0,
         74,
         33.0,
         "volkswagen jetta",
         "Europe",
         2190,
         "1982-01-01"
        ],
        [
         "15.8",
         4,
         100.0,
         null,
         34.5,
         "renault 18i",
         "Europe",
         2320,
         "1982-01-01"
        ],
        [
         "14.4",
         4,
         107.0,
         75,
         33.7,
         "honda prelude",
         "Japan",
         2210,
         "1982-01-01"
        ],
        [
         "16.8",
         4,
         108.0,
         75,
         32.4,
         "toyota corolla",
         "Japan",
         2350,
         "1982-01-01"
        ],
        [
         "14.8",
         4,
         119.0,
         100,
         32.9,
         "datsun 200sx",
         "Japan",
         2615,
         "1982-01-01"
        ],
        [
         "18.3",
         4,
         120.0,
         74,
         31.6,
         "mazda 626",
         "Japan",
         2635,
         "1982-01-01"
        ],
        [
         "20.4",
         4,
         141.0,
         80,
         28.1,
         "peugeot 505s turbo diesel",
         "Europe",
         3230,
         "1982-01-01"
        ],
        [
         "15.4",
         4,
         121.0,
         110,
         null,
         "saab 900s",
         "Europe",
         2800,
         "1982-01-01"
        ],
        [
         "19.6",
         6,
         145.0,
         76,
         30.7,
         "volvo diesel",
         "Europe",
         3160,
         "1982-01-01"
        ],
        [
         "12.6",
         6,
         168.0,
         116,
         25.4,
         "toyota cressida",
         "Japan",
         2900,
         "1982-01-01"
        ],
        [
         "13.8",
         6,
         146.0,
         120,
         24.2,
         "datsun 810 maxima",
         "Japan",
         2930,
         "1982-01-01"
        ],
        [
         "15.8",
         6,
         231.0,
         110,
         22.4,
         "buick century",
         "USA",
         3415,
         "1982-01-01"
        ],
        [
         "19",
         8,
         350.0,
         105,
         26.6,
         "oldsmobile cutlass ls",
         "USA",
         3725,
         "1982-01-01"
        ],
        [
         "17.1",
         6,
         200.0,
         88,
         20.2,
         "ford granada gl",
         "USA",
         3060,
         "1982-01-01"
        ],
        [
         "16.6",
         6,
         225.0,
         85,
         17.6,
         "chrysler lebaron salon",
         "USA",
         3465,
         "1982-01-01"
        ],
        [
         "19.6",
         4,
         112.0,
         88,
         28.0,
         "chevrolet cavalier",
         "USA",
         2605,
         "1982-01-01"
        ],
        [
         "18.6",
         4,
         112.0,
         88,
         27.0,
         "chevrolet cavalier wagon",
         "USA",
         2640,
         "1982-01-01"
        ],
        [
         "18",
         4,
         112.0,
         88,
         34.0,
         "chevrolet cavalier 2-door",
         "USA",
         2395,
         "1982-01-01"
        ],
        [
         "16.2",
         4,
         112.0,
         85,
         31.0,
         "pontiac j2000 se hatchback",
         "USA",
         2575,
         "1982-01-01"
        ],
        [
         "16",
         4,
         135.0,
         84,
         29.0,
         "dodge aries se",
         "USA",
         2525,
         "1982-01-01"
        ],
        [
         "18",
         4,
         151.0,
         90,
         27.0,
         "pontiac phoenix",
         "USA",
         2735,
         "1982-01-01"
        ],
        [
         "16.4",
         4,
         140.0,
         92,
         24.0,
         "ford fairmont futura",
         "USA",
         2865,
         "1982-01-01"
        ],
        [
         "20.5",
         4,
         151.0,
         null,
         23.0,
         "amc concord dl",
         "USA",
         3035,
         "1982-01-01"
        ],
        [
         "15.3",
         4,
         105.0,
         74,
         36.0,
         "volkswagen rabbit l",
         "Europe",
         1980,
         "1982-01-01"
        ],
        [
         "18.2",
         4,
         91.0,
         68,
         37.0,
         "mazda glc custom l",
         "Japan",
         2025,
         "1982-01-01"
        ],
        [
         "17.6",
         4,
         91.0,
         68,
         31.0,
         "mazda glc custom",
         "Japan",
         1970,
         "1982-01-01"
        ],
        [
         "14.7",
         4,
         105.0,
         63,
         38.0,
         "plymouth horizon miser",
         "USA",
         2125,
         "1982-01-01"
        ],
        [
         "17.3",
         4,
         98.0,
         70,
         36.0,
         "mercury lynx l",
         "USA",
         2125,
         "1982-01-01"
        ],
        [
         "14.5",
         4,
         120.0,
         88,
         36.0,
         "nissan stanza xe",
         "Japan",
         2160,
         "1982-01-01"
        ],
        [
         "14.5",
         4,
         107.0,
         75,
         36.0,
         "honda Accelerationord",
         "Japan",
         2205,
         "1982-01-01"
        ],
        [
         "16.9",
         4,
         108.0,
         70,
         34.0,
         "toyota corolla",
         "Japan",
         2245,
         "1982-01-01"
        ],
        [
         "15",
         4,
         91.0,
         67,
         38.0,
         "honda civic",
         "Japan",
         1965,
         "1982-01-01"
        ],
        [
         "15.7",
         4,
         91.0,
         67,
         32.0,
         "honda civic (auto)",
         "Japan",
         1965,
         "1982-01-01"
        ],
        [
         "16.2",
         4,
         91.0,
         67,
         38.0,
         "datsun 310 gx",
         "Japan",
         1995,
         "1982-01-01"
        ],
        [
         "16.4",
         6,
         181.0,
         110,
         25.0,
         "buick century limited",
         "USA",
         2945,
         "1982-01-01"
        ],
        [
         "17",
         6,
         262.0,
         85,
         38.0,
         "oldsmobile cutlass ciera (diesel)",
         "USA",
         3015,
         "1982-01-01"
        ],
        [
         "14.5",
         4,
         156.0,
         92,
         26.0,
         "chrysler lebaron medallion",
         "USA",
         2585,
         "1982-01-01"
        ],
        [
         "14.7",
         6,
         232.0,
         112,
         22.0,
         "ford granada l",
         "USA",
         2835,
         "1982-01-01"
        ],
        [
         "13.9",
         4,
         144.0,
         96,
         32.0,
         "toyota celica gt",
         "Japan",
         2665,
         "1982-01-01"
        ],
        [
         "13",
         4,
         135.0,
         84,
         36.0,
         "dodge charger 2.2",
         "USA",
         2370,
         "1982-01-01"
        ],
        [
         "17.3",
         4,
         151.0,
         90,
         27.0,
         "chevrolet camaro",
         "USA",
         2950,
         "1982-01-01"
        ],
        [
         "15.6",
         4,
         140.0,
         86,
         27.0,
         "ford mustang gl",
         "USA",
         2790,
         "1982-01-01"
        ],
        [
         "24.6",
         4,
         97.0,
         52,
         44.0,
         "vw pickup",
         "Europe",
         2130,
         "1982-01-01"
        ],
        [
         "11.6",
         4,
         135.0,
         84,
         32.0,
         "dodge rampage",
         "USA",
         2295,
         "1982-01-01"
        ],
        [
         "18.6",
         4,
         120.0,
         79,
         28.0,
         "ford ranger",
         "USA",
         2625,
         "1982-01-01"
        ],
        [
         "19.4",
         4,
         119.0,
         82,
         31.0,
         "chevy s-10",
         "USA",
         2720,
         "1982-01-01"
        ]
       ],
       "datasetInfos": [],
       "dbfsResultPath": null,
       "isJsonSchema": true,
       "metadata": {},
       "overflow": false,
       "plotOptions": {
        "customPlotOptions": {},
        "displayType": "table",
        "pivotAggregation": null,
        "pivotColumns": null,
        "xColumns": null,
        "yColumns": null
       },
       "removedWidgets": [],
       "schema": [
        {
         "metadata": "{}",
         "name": "Acceleration",
         "type": "\"string\""
        },
        {
         "metadata": "{}",
         "name": "Cylinders",
         "type": "\"long\""
        },
        {
         "metadata": "{}",
         "name": "Displacement",
         "type": "\"double\""
        },
        {
         "metadata": "{}",
         "name": "Horsepower",
         "type": "\"long\""
        },
        {
         "metadata": "{}",
         "name": "Miles_per_Gallon",
         "type": "\"double\""
        },
        {
         "metadata": "{}",
         "name": "Name",
         "type": "\"string\""
        },
        {
         "metadata": "{}",
         "name": "Origin",
         "type": "\"string\""
        },
        {
         "metadata": "{}",
         "name": "Weight_in_lbs",
         "type": "\"long\""
        },
        {
         "metadata": "{}",
         "name": "Year",
         "type": "\"string\""
        }
       ],
       "type": "table"
      }
     },
     "output_type": "display_data"
    }
   ],
   "source": [
    "%run \"./aggregation\""
   ]
  },
  {
   "cell_type": "code",
   "execution_count": 0,
   "metadata": {
    "application/vnd.databricks.v1+cell": {
     "cellMetadata": {
      "byteLimit": 2048000,
      "rowLimit": 10000
     },
     "inputWidgets": {},
     "nuid": "d8a3fec0-b48e-4f0d-9f8c-c9fed753f4a3",
     "showTitle": false,
     "title": ""
    }
   },
   "outputs": [
    {
     "output_type": "display_data",
     "data": {
      "text/html": [
       "<style scoped>\n",
       "  .table-result-container {\n",
       "    max-height: 300px;\n",
       "    overflow: auto;\n",
       "  }\n",
       "  table, th, td {\n",
       "    border: 1px solid black;\n",
       "    border-collapse: collapse;\n",
       "  }\n",
       "  th, td {\n",
       "    padding: 5px;\n",
       "  }\n",
       "  th {\n",
       "    text-align: left;\n",
       "  }\n",
       "</style><div class='table-result-container'><table class='table-result'><thead style='background-color: white'><tr><th>year</th><th>brand</th><th>sold_brand</th></tr></thead><tbody><tr><td>1970-01-01</td><td>ford</td><td>5</td></tr><tr><td>1970-01-01</td><td>plymouth</td><td>5</td></tr><tr><td>1970-01-01</td><td>amc</td><td>5</td></tr><tr><td>1971-01-01</td><td>ford</td><td>5</td></tr><tr><td>1972-01-01</td><td>ford</td><td>4</td></tr><tr><td>1973-01-01</td><td>chevrolet</td><td>6</td></tr><tr><td>1974-01-01</td><td>ford</td><td>4</td></tr><tr><td>1975-01-01</td><td>ford</td><td>5</td></tr><tr><td>1976-01-01</td><td>ford</td><td>5</td></tr><tr><td>1977-01-01</td><td>chevrolet</td><td>4</td></tr><tr><td>1978-01-01</td><td>dodge</td><td>4</td></tr><tr><td>1978-01-01</td><td>ford</td><td>4</td></tr><tr><td>1979-01-01</td><td>ford</td><td>3</td></tr><tr><td>1979-01-01</td><td>chevrolet</td><td>3</td></tr><tr><td>1979-01-01</td><td>dodge</td><td>3</td></tr><tr><td>1980-01-01</td><td>datsun</td><td>4</td></tr><tr><td>1982-01-01</td><td>ford</td><td>7</td></tr></tbody></table></div>"
      ]
     },
     "metadata": {
      "application/vnd.databricks.v1+output": {
       "addedWidgets": {},
       "aggData": [],
       "aggError": "",
       "aggOverflow": false,
       "aggSchema": [],
       "aggSeriesLimitReached": false,
       "aggType": "",
       "arguments": {},
       "columnCustomDisplayInfos": {},
       "data": [
        [
         "1970-01-01",
         "ford",
         5
        ],
        [
         "1970-01-01",
         "plymouth",
         5
        ],
        [
         "1970-01-01",
         "amc",
         5
        ],
        [
         "1971-01-01",
         "ford",
         5
        ],
        [
         "1972-01-01",
         "ford",
         4
        ],
        [
         "1973-01-01",
         "chevrolet",
         6
        ],
        [
         "1974-01-01",
         "ford",
         4
        ],
        [
         "1975-01-01",
         "ford",
         5
        ],
        [
         "1976-01-01",
         "ford",
         5
        ],
        [
         "1977-01-01",
         "chevrolet",
         4
        ],
        [
         "1978-01-01",
         "dodge",
         4
        ],
        [
         "1978-01-01",
         "ford",
         4
        ],
        [
         "1979-01-01",
         "ford",
         3
        ],
        [
         "1979-01-01",
         "chevrolet",
         3
        ],
        [
         "1979-01-01",
         "dodge",
         3
        ],
        [
         "1980-01-01",
         "datsun",
         4
        ],
        [
         "1982-01-01",
         "ford",
         7
        ]
       ],
       "datasetInfos": [],
       "dbfsResultPath": null,
       "isJsonSchema": true,
       "metadata": {},
       "overflow": false,
       "plotOptions": {
        "customPlotOptions": {},
        "displayType": "table",
        "pivotAggregation": null,
        "pivotColumns": null,
        "xColumns": null,
        "yColumns": null
       },
       "removedWidgets": [],
       "schema": [
        {
         "metadata": "{}",
         "name": "year",
         "type": "\"string\""
        },
        {
         "metadata": "{}",
         "name": "brand",
         "type": "\"string\""
        },
        {
         "metadata": "{}",
         "name": "sold_brand",
         "type": "\"long\""
        }
       ],
       "type": "table"
      }
     },
     "output_type": "display_data"
    },
    {
     "output_type": "execute_result",
     "data": {
      "text/plain": [
       "DataFrame[year: string, brand: string, sold_brand: bigint]"
      ]
     },
     "execution_count": 12,
     "metadata": {},
     "output_type": "execute_result"
    },
    {
     "output_type": "display_data",
     "data": {
      "text/html": [
       "<style scoped>\n",
       "  .table-result-container {\n",
       "    max-height: 300px;\n",
       "    overflow: auto;\n",
       "  }\n",
       "  table, th, td {\n",
       "    border: 1px solid black;\n",
       "    border-collapse: collapse;\n",
       "  }\n",
       "  th, td {\n",
       "    padding: 5px;\n",
       "  }\n",
       "  th {\n",
       "    text-align: left;\n",
       "  }\n",
       "</style><div class='table-result-container'><table class='table-result'><thead style='background-color: white'><tr><th>Brand</th><th>Model</th><th>Origin</th><th>Acceleration</th><th>Cylinders</th><th>Displacement</th><th>Horsepower</th><th>Miles_per_Gallon</th><th>Weight_in_lbs</th></tr></thead><tbody><tr><td>peugeot</td><td>504</td><td>Europe</td><td>24.8</td><td>4</td><td>141.0</td><td>71</td><td>27.2</td><td>3190</td></tr><tr><td>toyota</td><td>corolla 1200</td><td>Japan</td><td>21.0</td><td>4</td><td>71.0</td><td>65</td><td>32.0</td><td>1836</td></tr><tr><td>chevrolet</td><td>chevette</td><td>USA</td><td>22.2</td><td>4</td><td>85.0</td><td>52</td><td>29.0</td><td>2035</td></tr><tr><td>oldsmobile</td><td>cutlass salon brougham</td><td>USA</td><td>22.2</td><td>8</td><td>260.0</td><td>90</td><td>23.9</td><td>3420</td></tr></tbody></table></div>"
      ]
     },
     "metadata": {
      "application/vnd.databricks.v1+output": {
       "addedWidgets": {},
       "aggData": [],
       "aggError": "",
       "aggOverflow": false,
       "aggSchema": [],
       "aggSeriesLimitReached": false,
       "aggType": "",
       "arguments": {},
       "columnCustomDisplayInfos": {},
       "data": [
        [
         "peugeot",
         "504",
         "Europe",
         24.8,
         4,
         141.0,
         71,
         27.2,
         3190
        ],
        [
         "toyota",
         "corolla 1200",
         "Japan",
         21.0,
         4,
         71.0,
         65,
         32.0,
         1836
        ],
        [
         "chevrolet",
         "chevette",
         "USA",
         22.2,
         4,
         85.0,
         52,
         29.0,
         2035
        ],
        [
         "oldsmobile",
         "cutlass salon brougham",
         "USA",
         22.2,
         8,
         260.0,
         90,
         23.9,
         3420
        ]
       ],
       "datasetInfos": [],
       "dbfsResultPath": null,
       "isJsonSchema": true,
       "metadata": {},
       "overflow": false,
       "plotOptions": {
        "customPlotOptions": {},
        "displayType": "table",
        "pivotAggregation": null,
        "pivotColumns": null,
        "xColumns": null,
        "yColumns": null
       },
       "removedWidgets": [],
       "schema": [
        {
         "metadata": "{}",
         "name": "Brand",
         "type": "\"string\""
        },
        {
         "metadata": "{}",
         "name": "Model",
         "type": "\"string\""
        },
        {
         "metadata": "{}",
         "name": "Origin",
         "type": "\"string\""
        },
        {
         "metadata": "{}",
         "name": "Acceleration",
         "type": "\"double\""
        },
        {
         "metadata": "{}",
         "name": "Cylinders",
         "type": "\"long\""
        },
        {
         "metadata": "{}",
         "name": "Displacement",
         "type": "\"double\""
        },
        {
         "metadata": "{}",
         "name": "Horsepower",
         "type": "\"long\""
        },
        {
         "metadata": "{}",
         "name": "Miles_per_Gallon",
         "type": "\"double\""
        },
        {
         "metadata": "{}",
         "name": "Weight_in_lbs",
         "type": "\"long\""
        }
       ],
       "type": "table"
      }
     },
     "output_type": "display_data"
    },
    {
     "output_type": "execute_result",
     "data": {
      "text/plain": [
       "DataFrame[Brand: string, Model: string, Origin: string, Acceleration: double, Cylinders: bigint, Displacement: double, Horsepower: bigint, Miles_per_Gallon: double, Weight_in_lbs: bigint]"
      ]
     },
     "execution_count": 14,
     "metadata": {},
     "output_type": "execute_result"
    }
   ],
   "source": [
    "from pyspark.sql.types import StructType, StructField, DoubleType, IntegerType, StringType"
   ]
  },
  {
   "cell_type": "code",
   "execution_count": 0,
   "metadata": {
    "application/vnd.databricks.v1+cell": {
     "cellMetadata": {
      "byteLimit": 2048000,
      "rowLimit": 10000
     },
     "inputWidgets": {},
     "nuid": "47763ca2-5530-4eb0-a70e-7ace78fa7002",
     "showTitle": false,
     "title": ""
    }
   },
   "outputs": [],
   "source": [
    "\n",
    "\n",
    "def test_acceleration_by_origin():\n",
    "   schema_accelaration = StructType([\n",
    "      StructField('Brand', StringType(), True),\n",
    "      StructField('Model', StringType(), True),\n",
    "      \n",
    "      StructField('Origin', StringType(), True),\n",
    "      StructField('Acceleration', DoubleType(), True),\n",
    "      StructField('Cylinders', IntegerType(), True),\n",
    "      StructField('Displacement', IntegerType(), True),\n",
    "      StructField('Horsepower', DoubleType(), True),\n",
    "      StructField('Miles_per_Gallon', DoubleType(), True),\n",
    "      StructField('Weight_in_lbs', DoubleType(), True)\n",
    "   ])\n",
    "   \n",
    "   # create test data\n",
    "   test_data = [\n",
    "      ('peugeot','504','Europe',24.8,4,141,71.0,27.2,3190.0),\n",
    "      ('toyota','corolla 1200','Japan',21.0,4,71,65.0,32.0,1836.0),\n",
    "      ('chevrolet','chevette','USA',22.2,4,85,52.0,29.0,2035.0),\n",
    "      ('oldsmobile','cutlass salon brougham','USA',22.2,8,260,90.0,23.9,3420.0)\n",
    "   ]\n",
    "   test_df = spark.createDataFrame(test_data, schema_accelaration )\n",
    " \n",
    "   # run acceleration function on test data\n",
    "   result = acceleration_by_origin()\n",
    "\n",
    "   # expected result DataFrame\n",
    "   expected_result = [\n",
    "       ('peugeot','504','Europe',24.8,4,141,71.0,27.2,3190.0),\n",
    "      ('toyota','corolla 1200','Japan',21.0,4,71,65.0,32.0,1836.0),\n",
    "      ('chevrolet','chevette','USA',22.2,4,85,52.0,29.0,2035.0),\n",
    "      ('oldsmobile','cutlass salon brougham','USA',22.2,8,260,90.0,23.9,3420.0)\n",
    "   ]\n",
    "   expected_df = spark.createDataFrame(expected_result, ['Origin', 'Acceleration'])\n",
    "\n",
    "   # test if result is correct\n",
    "   assert result.collect() == expected_df.collect()\n"
   ]
  },
  {
   "cell_type": "code",
   "execution_count": 0,
   "metadata": {
    "application/vnd.databricks.v1+cell": {
     "cellMetadata": {
      "byteLimit": 2048000,
      "rowLimit": 10000
     },
     "inputWidgets": {},
     "nuid": "27d5a421-c3c2-4820-819e-08adbc5b0941",
     "showTitle": false,
     "title": ""
    }
   },
   "outputs": [
    {
     "output_type": "display_data",
     "data": {
      "text/html": [
       "<style scoped>\n",
       "  .table-result-container {\n",
       "    max-height: 300px;\n",
       "    overflow: auto;\n",
       "  }\n",
       "  table, th, td {\n",
       "    border: 1px solid black;\n",
       "    border-collapse: collapse;\n",
       "  }\n",
       "  th, td {\n",
       "    padding: 5px;\n",
       "  }\n",
       "  th {\n",
       "    text-align: left;\n",
       "  }\n",
       "</style><div class='table-result-container'><table class='table-result'><thead style='background-color: white'><tr><th>Brand</th><th>Model</th><th>Origin</th><th>Acceleration</th><th>Cylinders</th><th>Displacement</th><th>Horsepower</th><th>Miles_per_Gallon</th><th>Weight_in_lbs</th></tr></thead><tbody><tr><td>peugeot</td><td>504</td><td>Europe</td><td>24.8</td><td>4</td><td>141.0</td><td>71</td><td>27.2</td><td>3190</td></tr><tr><td>toyota</td><td>corolla 1200</td><td>Japan</td><td>21.0</td><td>4</td><td>71.0</td><td>65</td><td>32.0</td><td>1836</td></tr><tr><td>chevrolet</td><td>chevette</td><td>USA</td><td>22.2</td><td>4</td><td>85.0</td><td>52</td><td>29.0</td><td>2035</td></tr><tr><td>oldsmobile</td><td>cutlass salon brougham</td><td>USA</td><td>22.2</td><td>8</td><td>260.0</td><td>90</td><td>23.9</td><td>3420</td></tr></tbody></table></div>"
      ]
     },
     "metadata": {
      "application/vnd.databricks.v1+output": {
       "addedWidgets": {},
       "aggData": [],
       "aggError": "",
       "aggOverflow": false,
       "aggSchema": [],
       "aggSeriesLimitReached": false,
       "aggType": "",
       "arguments": {},
       "columnCustomDisplayInfos": {},
       "data": [
        [
         "peugeot",
         "504",
         "Europe",
         24.8,
         4,
         141.0,
         71,
         27.2,
         3190
        ],
        [
         "toyota",
         "corolla 1200",
         "Japan",
         21.0,
         4,
         71.0,
         65,
         32.0,
         1836
        ],
        [
         "chevrolet",
         "chevette",
         "USA",
         22.2,
         4,
         85.0,
         52,
         29.0,
         2035
        ],
        [
         "oldsmobile",
         "cutlass salon brougham",
         "USA",
         22.2,
         8,
         260.0,
         90,
         23.9,
         3420
        ]
       ],
       "datasetInfos": [],
       "dbfsResultPath": null,
       "isJsonSchema": true,
       "metadata": {},
       "overflow": false,
       "plotOptions": {
        "customPlotOptions": {},
        "displayType": "table",
        "pivotAggregation": null,
        "pivotColumns": null,
        "xColumns": null,
        "yColumns": null
       },
       "removedWidgets": [],
       "schema": [
        {
         "metadata": "{}",
         "name": "Brand",
         "type": "\"string\""
        },
        {
         "metadata": "{}",
         "name": "Model",
         "type": "\"string\""
        },
        {
         "metadata": "{}",
         "name": "Origin",
         "type": "\"string\""
        },
        {
         "metadata": "{}",
         "name": "Acceleration",
         "type": "\"double\""
        },
        {
         "metadata": "{}",
         "name": "Cylinders",
         "type": "\"long\""
        },
        {
         "metadata": "{}",
         "name": "Displacement",
         "type": "\"double\""
        },
        {
         "metadata": "{}",
         "name": "Horsepower",
         "type": "\"long\""
        },
        {
         "metadata": "{}",
         "name": "Miles_per_Gallon",
         "type": "\"double\""
        },
        {
         "metadata": "{}",
         "name": "Weight_in_lbs",
         "type": "\"long\""
        }
       ],
       "type": "table"
      }
     },
     "output_type": "display_data"
    }
   ],
   "source": [
    "test_acceleration_by_origin()"
   ]
  },
  {
   "cell_type": "code",
   "execution_count": 0,
   "metadata": {
    "application/vnd.databricks.v1+cell": {
     "cellMetadata": {
      "byteLimit": 2048000,
      "rowLimit": 10000
     },
     "inputWidgets": {},
     "nuid": "29b272eb-050c-45d8-8999-ffceb955619c",
     "showTitle": false,
     "title": ""
    }
   },
   "outputs": [],
   "source": [
    "\n",
    "def test_most_sold_cars():\n",
    "  schema_soldcars= StructType([\n",
    "  StructField(\"Year\", IntegerType(), True),\n",
    "  StructField(\"Brand\", StringType(), True),\n",
    "  StructField(\"Sold_brand\", IntegerType(), True)\n",
    "])\n",
    "\n",
    "  data_soldcars= [(1978, 'dodge', 4),\n",
    "        (1978, 'ford', 4),\n",
    "        (1979, 'ford', 3),\n",
    "        (1979, 'chevrolet', 3),\n",
    "        (1979, 'dodge', 3),\n",
    "        (1980, 'datsun', 4),\n",
    "        (1982, 'ford', 7)]\n",
    "\n",
    "  dftest_soldcars = spark.createDataFrame(data_soldcars, schema_soldcars)\n",
    "\n",
    "  result_most_sold_cars = most_sold_cars()\n",
    "  expected_result = [\n",
    "       (1978, 'dodge', 4),\n",
    "        (1978, 'ford', 4),\n",
    "        (1979, 'ford', 3),\n",
    "        (1979, 'chevrolet', 3),\n",
    "        (1979, 'dodge', 3),\n",
    "        (1980, 'datsun', 4),\n",
    "        (1982, 'ford', 7)\n",
    "   ]\n",
    "  expected_df = spark.createDataFrame(expected_result, ['year', 'brand','Sold_brand'])\n",
    "\n",
    "   # test if result is correct\n",
    "  assert result_most_sold_cars.collect() == result_most_sold_cars.collect()\n"
   ]
  },
  {
   "cell_type": "code",
   "execution_count": 0,
   "metadata": {
    "application/vnd.databricks.v1+cell": {
     "cellMetadata": {
      "byteLimit": 2048000,
      "rowLimit": 10000
     },
     "inputWidgets": {},
     "nuid": "f74262a6-208e-41f3-97af-cc406dbe084a",
     "showTitle": false,
     "title": ""
    }
   },
   "outputs": [
    {
     "output_type": "display_data",
     "data": {
      "text/html": [
       "<style scoped>\n",
       "  .table-result-container {\n",
       "    max-height: 300px;\n",
       "    overflow: auto;\n",
       "  }\n",
       "  table, th, td {\n",
       "    border: 1px solid black;\n",
       "    border-collapse: collapse;\n",
       "  }\n",
       "  th, td {\n",
       "    padding: 5px;\n",
       "  }\n",
       "  th {\n",
       "    text-align: left;\n",
       "  }\n",
       "</style><div class='table-result-container'><table class='table-result'><thead style='background-color: white'><tr><th>year</th><th>brand</th><th>sold_brand</th></tr></thead><tbody><tr><td>1970-01-01</td><td>ford</td><td>5</td></tr><tr><td>1970-01-01</td><td>plymouth</td><td>5</td></tr><tr><td>1970-01-01</td><td>amc</td><td>5</td></tr><tr><td>1971-01-01</td><td>ford</td><td>5</td></tr><tr><td>1972-01-01</td><td>ford</td><td>4</td></tr><tr><td>1973-01-01</td><td>chevrolet</td><td>6</td></tr><tr><td>1974-01-01</td><td>ford</td><td>4</td></tr><tr><td>1975-01-01</td><td>ford</td><td>5</td></tr><tr><td>1976-01-01</td><td>ford</td><td>5</td></tr><tr><td>1977-01-01</td><td>chevrolet</td><td>4</td></tr><tr><td>1978-01-01</td><td>dodge</td><td>4</td></tr><tr><td>1978-01-01</td><td>ford</td><td>4</td></tr><tr><td>1979-01-01</td><td>ford</td><td>3</td></tr><tr><td>1979-01-01</td><td>chevrolet</td><td>3</td></tr><tr><td>1979-01-01</td><td>dodge</td><td>3</td></tr><tr><td>1980-01-01</td><td>datsun</td><td>4</td></tr><tr><td>1982-01-01</td><td>ford</td><td>7</td></tr></tbody></table></div>"
      ]
     },
     "metadata": {
      "application/vnd.databricks.v1+output": {
       "addedWidgets": {},
       "aggData": [],
       "aggError": "",
       "aggOverflow": false,
       "aggSchema": [],
       "aggSeriesLimitReached": false,
       "aggType": "",
       "arguments": {},
       "columnCustomDisplayInfos": {},
       "data": [
        [
         "1970-01-01",
         "ford",
         5
        ],
        [
         "1970-01-01",
         "plymouth",
         5
        ],
        [
         "1970-01-01",
         "amc",
         5
        ],
        [
         "1971-01-01",
         "ford",
         5
        ],
        [
         "1972-01-01",
         "ford",
         4
        ],
        [
         "1973-01-01",
         "chevrolet",
         6
        ],
        [
         "1974-01-01",
         "ford",
         4
        ],
        [
         "1975-01-01",
         "ford",
         5
        ],
        [
         "1976-01-01",
         "ford",
         5
        ],
        [
         "1977-01-01",
         "chevrolet",
         4
        ],
        [
         "1978-01-01",
         "dodge",
         4
        ],
        [
         "1978-01-01",
         "ford",
         4
        ],
        [
         "1979-01-01",
         "ford",
         3
        ],
        [
         "1979-01-01",
         "chevrolet",
         3
        ],
        [
         "1979-01-01",
         "dodge",
         3
        ],
        [
         "1980-01-01",
         "datsun",
         4
        ],
        [
         "1982-01-01",
         "ford",
         7
        ]
       ],
       "datasetInfos": [],
       "dbfsResultPath": null,
       "isJsonSchema": true,
       "metadata": {},
       "overflow": false,
       "plotOptions": {
        "customPlotOptions": {},
        "displayType": "table",
        "pivotAggregation": null,
        "pivotColumns": null,
        "xColumns": null,
        "yColumns": null
       },
       "removedWidgets": [],
       "schema": [
        {
         "metadata": "{}",
         "name": "year",
         "type": "\"string\""
        },
        {
         "metadata": "{}",
         "name": "brand",
         "type": "\"string\""
        },
        {
         "metadata": "{}",
         "name": "sold_brand",
         "type": "\"long\""
        }
       ],
       "type": "table"
      }
     },
     "output_type": "display_data"
    }
   ],
   "source": [
    "test_most_sold_cars()"
   ]
  }
 ],
 "metadata": {
  "application/vnd.databricks.v1+notebook": {
   "dashboards": [],
   "language": "python",
   "notebookMetadata": {
    "pythonIndentUnit": 4
   },
   "notebookName": "unittest",
   "widgets": {}
  }
 },
 "nbformat": 4,
 "nbformat_minor": 0
}
